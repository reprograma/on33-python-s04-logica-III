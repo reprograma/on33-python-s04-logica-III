{
 "cells": [
  {
   "cell_type": "code",
   "execution_count": 6,
   "metadata": {},
   "outputs": [
    {
     "name": "stdout",
     "output_type": "stream",
     "text": [
      "2 X 3 = 6\n",
      "2 X 4 = 8\n",
      "2 X 5 = 10\n",
      "2 X 6 = 12\n",
      "2 X 7 = 14\n",
      "2 X 8 = 16\n",
      "Parabéns!!!\n"
     ]
    }
   ],
   "source": [
    "def tabuada(numero, começo, fim):\n",
    "   \n",
    "    for i in range(começo, fim + 1):\n",
    "        resultado = numero * i\n",
    "        print(f\"{numero} X {i} = {resultado}\")\n",
    "\n",
    "numero = int(input(\"Montar a tabuada de: \"))\n",
    "começo = int(input(\"Começar por: \"))\n",
    "fim = int(input(\"Terminar em: \"))\n",
    "\n",
    "tabuada(numero, começo, fim)\n",
    "\n",
    "print ('Parabéns!!!')\n"
   ]
  },
  {
   "cell_type": "code",
   "execution_count": 26,
   "metadata": {},
   "outputs": [
    {
     "name": "stdout",
     "output_type": "stream",
     "text": [
      "Salário no ano 1995: R$ 1000.00\n",
      "Salário no ano 1996: R$ 1015.00\n",
      "Salário no ano 1997: R$ 1045.45\n",
      "Salário no ano 1998: R$ 1108.18\n",
      "Salário no ano 1999: R$ 1241.16\n",
      "Salário no ano 2000: R$ 1539.04\n",
      "Salário no ano 2001: R$ 2277.77\n",
      "Salário no ano 2002: R$ 4464.44\n",
      "Salário no ano 2003: R$ 13036.15\n",
      "Salário no ano 2004: R$ 63094.98\n",
      "Salário no ano 2005: R$ 547664.47\n",
      "Salário no ano 2006: R$ 8959790.69\n",
      "Salário no ano 2007: R$ 284204560.82\n",
      "Salário no ano 2008: R$ 17745732777.31\n",
      "Salário no ano 2009: R$ 2198341376453.00\n",
      "Salário no ano 2010: R$ 542462718053542.06\n",
      "Salário no ano 2011: R$ 267173737895730528.00\n",
      "Salário no ano 2012: R$ 262909645038914666496.00\n",
      "Salário no ano 2013: R$ 517164304563148244910080.00\n",
      "Salário no ano 2014: R$ 2034089956135592080204365824.00\n",
      "Salário no ano 2015: R$ 15998768413792394281488683630592.00\n",
      "Salário no ano 2016: R$ 251654867592325396987276632919113728.00\n",
      "Salário no ano 2017: R$ 7916629288082298418272104051247446753280.00\n",
      "Salário no ano 2018: R$ 498079164972099073044506102424224350991286272.00\n",
      "Salário no ano 2019: R$ 62673361097939015974588452007553794415875760062464.00\n",
      "Salário no ano 2020: R$ 15772330422152896713036863368953619989314421505159856128.00\n",
      "Salário no ano 2021: R$ 7938489601805331786892694208203085057144886545662928308142080.00\n",
      "Salário no ano 2022: R$ 7991153224284124308525120353457584705599324422584199349980608069632.00\n",
      "Salário no ano 2023: R$ 16088324439102569013333895264764169083775204134662300197261040409336872960.00\n",
      "Salário no ano 2024: R$ 64780166694621071389588518512457699362489192028238654588493204328624246784786432.00\n"
     ]
    }
   ],
   "source": [
    "salario_inicial = 1000\n",
    "aumento = 1.5 / 100\n",
    "ano = 1995\n",
    "\n",
    "while ano <= 2024:\n",
    "    print(f\"Salário no ano {ano}: R$ {salario_inicial:.2f}\")\n",
    "    salario_inicial = salario_inicial * (1 + aumento)\n",
    "    aumento = aumento * 2 \n",
    "    ano += 1\n",
    "\n",
    "\n",
    "\n",
    "\n",
    "\n",
    "\n",
    "\n",
    "\n"
   ]
  },
  {
   "cell_type": "code",
   "execution_count": 3,
   "metadata": {},
   "outputs": [
    {
     "name": "stdout",
     "output_type": "stream",
     "text": [
      "8! = 8 . 7 . 6 . 5 . 4 . 3 . 2 . 1 = 40320\n"
     ]
    }
   ],
   "source": [
    "num = int(input(\"Digite um número inteiro positivo: \"))\n",
    "\n",
    "if num < 0:\n",
    "    print(\"Se for negativo, não vai funcionar! .\")\n",
    "else:\n",
    "    fatorial = 1\n",
    "    representacao = f\"{num}! = \"\n",
    "\n",
    "    for i in range(num, 0, -1):\n",
    "        fatorial *= i\n",
    "        representacao += str(i)\n",
    "        if i != 1:\n",
    "            representacao += \" . \"\n",
    "\n",
    "    representacao += f\" = {fatorial}\"\n",
    "    print(representacao)\n"
   ]
  }
 ],
 "metadata": {
  "kernelspec": {
   "display_name": "Python 3",
   "language": "python",
   "name": "python3"
  },
  "language_info": {
   "codemirror_mode": {
    "name": "ipython",
    "version": 3
   },
   "file_extension": ".py",
   "mimetype": "text/x-python",
   "name": "python",
   "nbconvert_exporter": "python",
   "pygments_lexer": "ipython3",
   "version": "3.12.4"
  }
 },
 "nbformat": 4,
 "nbformat_minor": 2
}
