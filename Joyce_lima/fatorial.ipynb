{
 "cells": [
  {
   "cell_type": "markdown",
   "metadata": {},
   "source": [
    "Faça um programa que calcule o fatorial de um número inteiro fornecido pelo usuário. Ex.: 5!=5.4.3.2.1=120. \n",
    "\n",
    "A saída deve ser conforme o exemplo abaixo:\n",
    "Fatorial de: 5\n",
    "5! =  5 . 4 . 3 . 2 . 1 = 120"
   ]
  },
  {
   "cell_type": "code",
   "execution_count": 39,
   "metadata": {},
   "outputs": [
    {
     "name": "stdout",
     "output_type": "stream",
     "text": [
      "Vamos calcular o fatorial de um número inteiro.\n",
      "Fatorial de 5\n",
      "5! = 5 . 4 . 3 . 2 . 1 . = 120\n"
     ]
    }
   ],
   "source": [
    "\n",
    "print('Vamos calcular o fatorial de um número inteiro.')\n",
    "\n",
    "fator = int(input('Digite um número de 1 a 10: '))\n",
    "\n",
    "numero = 1\n",
    "print(f'Fatorial de {fator}')\n",
    "\n",
    "print(f'{fator}! = ', end='')\n",
    "\n",
    "for i in range (fator,0,-1):\n",
    "    numero = numero * i\n",
    "    print(i,\".\", end=\" \")\n",
    "\n",
    "print(f'= {numero}')\n"
   ]
  }
 ],
 "metadata": {
  "kernelspec": {
   "display_name": "Python 3",
   "language": "python",
   "name": "python3"
  },
  "language_info": {
   "codemirror_mode": {
    "name": "ipython",
    "version": 3
   },
   "file_extension": ".py",
   "mimetype": "text/x-python",
   "name": "python",
   "nbconvert_exporter": "python",
   "pygments_lexer": "ipython3",
   "version": "3.12.3"
  }
 },
 "nbformat": 4,
 "nbformat_minor": 2
}
