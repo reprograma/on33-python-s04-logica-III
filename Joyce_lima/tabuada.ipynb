{
 "cells": [
  {
   "cell_type": "markdown",
   "metadata": {},
   "source": [
    "Desenvolva um programa que faça a tabuada de um número qualquer inteiro que será digitado pelo usuário, mas a tabuada não deve necessariamente iniciar em 1 e terminar em 10, o valor inicial e final devem ser informados também pelo usuário."
   ]
  },
  {
   "cell_type": "code",
   "execution_count": 5,
   "metadata": {},
   "outputs": [
    {
     "name": "stdout",
     "output_type": "stream",
     "text": [
      "A tabuada do 6, começando do 3 e terminando no 7 é: \n",
      "6 x 3 = 18\n",
      "6 x 4 = 24\n",
      "6 x 5 = 30\n",
      "6 x 6 = 36\n",
      "6 x 7 = 42\n"
     ]
    }
   ],
   "source": [
    "\n",
    "\n",
    "conta = int(input('Digite o número que você quer saber a tabuada: '))\n",
    "\n",
    "inicio = int(input('Digite o número pelo qual irá iniciar a tabuada: '))\n",
    "fim = int(input('Digite o número que irá ser o final da tabuada: '))\n",
    "\n",
    "tabuada = 1\n",
    "\n",
    "print(f'A tabuada do {conta}, começando do {inicio} e terminando no {fim} é: ')\n",
    "\n",
    "for numero in range (inicio, fim+1):\n",
    "    resultado = conta * numero\n",
    "    tabuada +=1\n",
    "    print(f'{conta} x {numero} = {resultado}')"
   ]
  }
 ],
 "metadata": {
  "kernelspec": {
   "display_name": "Python 3",
   "language": "python",
   "name": "python3"
  },
  "language_info": {
   "codemirror_mode": {
    "name": "ipython",
    "version": 3
   },
   "file_extension": ".py",
   "mimetype": "text/x-python",
   "name": "python",
   "nbconvert_exporter": "python",
   "pygments_lexer": "ipython3",
   "version": "3.12.3"
  }
 },
 "nbformat": 4,
 "nbformat_minor": 2
}
