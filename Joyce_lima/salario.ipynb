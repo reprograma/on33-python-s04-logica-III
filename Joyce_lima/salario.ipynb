{
 "cells": [
  {
   "cell_type": "markdown",
   "metadata": {},
   "source": [
    "Um funcionário de uma empresa recebe aumento salarial anualmente: Sabe-se que:\n",
    " \n",
    " Esse funcionário foi contratado em 1995, com salário inicial de R$ 1.000,00;\n",
    " \n",
    " Em 1996 recebeu aumento de 1,5% sobre seu salário inicial; A partir de 1997 (inclusive), os aumentos salariais sempre correspondem ao dobro do percentual do ano anterior. \n",
    "\n",
    "Faça um programa que determine o salário atual desse funcionário. Após concluir isto, altere o programa permitindo que o usuário digite o salário inicial do funcionário."
   ]
  },
  {
   "cell_type": "code",
   "execution_count": 35,
   "metadata": {},
   "outputs": [
    {
     "name": "stdout",
     "output_type": "stream",
     "text": [
      "No ano de 1995 o salário era R$ 1015.00\n",
      "No ano de 1996 o salário era R$ 1045.45\n",
      "No ano de 1997 o salário era R$ 1108.18\n",
      "No ano de 1998 o salário era R$ 1241.16\n",
      "No ano de 1999 o salário era R$ 1390.10\n",
      "No ano de 2000 o salário era R$ 1556.91\n",
      "No ano de 2001 o salário era R$ 1743.74\n",
      "No ano de 2002 o salário era R$ 1952.99\n",
      "No ano de 2003 o salário era R$ 2187.34\n",
      "No ano de 2004 o salário era R$ 2449.83\n",
      "No ano de 2005 o salário era R$ 2743.81\n",
      "No ano de 2006 o salário era R$ 3073.06\n",
      "No ano de 2007 o salário era R$ 3441.83\n",
      "No ano de 2008 o salário era R$ 3854.85\n",
      "No ano de 2009 o salário era R$ 4317.43\n",
      "No ano de 2010 o salário era R$ 4835.52\n",
      "No ano de 2011 o salário era R$ 5415.79\n",
      "No ano de 2012 o salário era R$ 6065.68\n",
      "No ano de 2013 o salário era R$ 6793.56\n",
      "No ano de 2014 o salário era R$ 7608.79\n",
      "No ano de 2015 o salário era R$ 8521.84\n",
      "No ano de 2016 o salário era R$ 9544.46\n",
      "No ano de 2017 o salário era R$ 10689.80\n",
      "No ano de 2018 o salário era R$ 11972.58\n",
      "No ano de 2019 o salário era R$ 13409.29\n",
      "No ano de 2020 o salário era R$ 15018.40\n",
      "No ano de 2021 o salário era R$ 16820.61\n",
      "No ano de 2022 o salário era R$ 18839.08\n",
      "No ano de 2023 o salário era R$ 21099.77\n",
      "No ano de 2024 o salário era R$ 23631.74\n",
      "Salário atual em 2024 é R$ 23631.74\n"
     ]
    }
   ],
   "source": [
    "\n",
    "\n",
    "dissidio = 1.5/100\n",
    "salario_inicial = 1000\n",
    "admissao = 1995\n",
    "\n",
    "for ano in range(1995,2025):\n",
    "    salario_inicial += salario_inicial * dissidio \n",
    "    if ano <= 1997:\n",
    "        dissidio *= 2\n",
    "\n",
    "    print (f'No ano de {ano} o salário era R$ {salario_inicial:.2f}')\n",
    "\n",
    "\n",
    "print(f'Salário atual em 2024 é R$ {salario_inicial:.2f}')\n",
    "\n",
    "\n"
   ]
  }
 ],
 "metadata": {
  "kernelspec": {
   "display_name": "Python 3",
   "language": "python",
   "name": "python3"
  },
  "language_info": {
   "codemirror_mode": {
    "name": "ipython",
    "version": 3
   },
   "file_extension": ".py",
   "mimetype": "text/x-python",
   "name": "python",
   "nbconvert_exporter": "python",
   "pygments_lexer": "ipython3",
   "version": "3.12.3"
  }
 },
 "nbformat": 4,
 "nbformat_minor": 2
}
