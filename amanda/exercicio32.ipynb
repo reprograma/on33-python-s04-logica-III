{
 "cells": [
  {
   "cell_type": "code",
   "execution_count": 18,
   "metadata": {},
   "outputs": [
    {
     "name": "stdout",
     "output_type": "stream",
     "text": [
      "O fatorial de 4 é 24.\n"
     ]
    }
   ],
   "source": [
    "from math import factorial\n",
    "n = int(input ('Digite um número para calcular seu fatorial: '))\n",
    "f = factorial (n)\n",
    "print ('O fatorial de {} é {}.'.format(n, f))\n"
   ]
  },
  {
   "cell_type": "code",
   "execution_count": 19,
   "metadata": {},
   "outputs": [
    {
     "name": "stdout",
     "output_type": "stream",
     "text": [
      "Calculando 4! = 4 x 3 x 2 x 1 = 24\n"
     ]
    }
   ],
   "source": [
    "n = int(input ('Digite um número para calcular seu fatorial: '))\n",
    "c = n\n",
    "f = 1\n",
    "print('Calculando {}! = '. format(n), end='')\n",
    "while c > 0:\n",
    "    print('{}' . format(c), end = '')\n",
    "    print (' x ' if c > 1 else ' = ' , end='')\n",
    "    f = f * c\n",
    "    c-=1\n",
    "print ('{}'.format(f))\n",
    "\n"
   ]
  }
 ],
 "metadata": {
  "kernelspec": {
   "display_name": "Python 3",
   "language": "python",
   "name": "python3"
  },
  "language_info": {
   "codemirror_mode": {
    "name": "ipython",
    "version": 3
   },
   "file_extension": ".py",
   "mimetype": "text/x-python",
   "name": "python",
   "nbconvert_exporter": "python",
   "pygments_lexer": "ipython3",
   "version": "3.12.4"
  }
 },
 "nbformat": 4,
 "nbformat_minor": 2
}
