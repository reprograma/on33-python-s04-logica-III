{
 "cells": [
  {
   "cell_type": "code",
   "execution_count": 8,
   "metadata": {},
   "outputs": [
    {
     "name": "stdout",
     "output_type": "stream",
     "text": [
      "9 x 3 = 27\n",
      "9 x 4 = 36\n",
      "9 x 5 = 45\n",
      "9 x 6 = 54\n",
      "9 x 7 = 63\n",
      "9 x 8 = 72\n",
      "9 x 9 = 81\n"
     ]
    }
   ],
   "source": [
    "#Montar a tabuada de: 9\n",
    "#Começar por: 3\n",
    "#Terminar em: 9\n",
    "\n",
    "#Vou montar a tabuada do 9 começando em 3 e terminando em 9:\n",
    "\n",
    "num = int(input('Digite um número para ver sua tabuada: '))\n",
    "print ('{} x {} = {}'.format(num, 3, num*3))\n",
    "print ('{} x {} = {}'.format(num, 4, num*4))\n",
    "print ('{} x {} = {}'.format(num, 5, num*5))\n",
    "print ('{} x {} = {}'.format(num, 6, num*6))\n",
    "print ('{} x {} = {}'.format(num, 7, num*7))\n",
    "print ('{} x {} = {}'.format(num, 8, num*8))\n",
    "print ('{} x {} = {}'.format(num, 9, num*9))\n"
   ]
  },
  {
   "cell_type": "code",
   "execution_count": 9,
   "metadata": {},
   "outputs": [
    {
     "name": "stdout",
     "output_type": "stream",
     "text": [
      "\n",
      "O valor inicial não pode ser maior que o final!\n",
      "\n",
      "\n",
      "\n",
      "Tabuada de:  1\n",
      "Inicializada por:  1\n",
      "Finalizada por:  10\n",
      "1 X 1 = 1\n",
      "1 X 2 = 2\n",
      "1 X 3 = 3\n",
      "1 X 4 = 4\n",
      "1 X 5 = 5\n",
      "1 X 6 = 6\n",
      "1 X 7 = 7\n",
      "1 X 8 = 8\n",
      "1 X 9 = 9\n",
      "1 X 10 = 10\n"
     ]
    }
   ],
   "source": [
    "comeco = 10\n",
    "final = 1\n",
    "tabuada = 1\n",
    "\n",
    "while (comeco >= final):\n",
    "\ttabuada = int(input(\"Digite a tabuada que deseja (1 a 10): \"))\n",
    "\tcomeco = int(input(\"Digite por qual número deseja começar: \"))\n",
    "\tfinal = int(input(\"Digite por qual número deseja finalizar: \"))\n",
    "\tif (comeco >= final):\n",
    "\t\tprint(\"\")\n",
    "\t\tprint(\"O valor inicial não pode ser maior que o final!\\n\")\n",
    "\t\tprint(\"\")\n",
    "\t\t\n",
    "print(\"\")\t\n",
    "print(\"Tabuada de: \", tabuada)\n",
    "print(\"Inicializada por: \", comeco)\n",
    "print(\"Finalizada por: \", final)\n",
    "\n",
    "while (comeco < (final + 1)):\n",
    "\tprint(tabuada, \"X\", comeco, \"=\", tabuada * comeco)\n",
    "\tcomeco = comeco + 1"
   ]
  }
 ],
 "metadata": {
  "kernelspec": {
   "display_name": "Python 3",
   "language": "python",
   "name": "python3"
  },
  "language_info": {
   "codemirror_mode": {
    "name": "ipython",
    "version": 3
   },
   "file_extension": ".py",
   "mimetype": "text/x-python",
   "name": "python",
   "nbconvert_exporter": "python",
   "pygments_lexer": "ipython3",
   "version": "3.12.4"
  }
 },
 "nbformat": 4,
 "nbformat_minor": 2
}
