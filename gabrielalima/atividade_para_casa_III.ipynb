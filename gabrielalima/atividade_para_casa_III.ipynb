{
 "cells": [
  {
   "cell_type": "code",
   "execution_count": 1,
   "metadata": {},
   "outputs": [
    {
     "name": "stdout",
     "output_type": "stream",
     "text": [
      "A sequência que representa o fatorial 5 é: 5.4.3.2.1, dá o resultado: 120\n"
     ]
    }
   ],
   "source": [
    "#Faça um programa que calcule o fatorial de um número inteiro fornecido pelo usuário. Ex.: 5!=5.4.3.2.1=120. A saída deve ser conforme o exemplo abaixo:\n",
    "#Fatorial de: 5\n",
    "#5! =  5 . 4 . 3 . 2 . 1 = 120\n",
    "\n",
    "F = int(input(\"Qual o Fatorial? \"))  #Aqui eu peço um numero para ser o fatorial\n",
    "numero = 1                           #numero será usado para armazenar o resultado do cálculo do fatorial.\n",
    "sequencia = \"\"                       #cria uma tabela que representara o intervalo do indice\n",
    "for i in range(F, 0, -1):            #cria um loop que começa no valor de F (o fatorial) e termina em 1 (que é o numero que eu quero que termine o intervalo,\n",
    "                                     #sempre colocando um numero a mais pra terminar onde eu quero, se for crescente e quero que acabe em 5 coloco 6, se for decrescente\n",
    "                                    # e quero que acabe em -1 coloco -2). O terceiro argumento -1 indica que o loop deve decrementar i a cada iteração. Quando for\n",
    "                                    # crescente então deve ser +1\n",
    "    numero = numero * i             #multiplica a variável numero pelo valor atual de i(que estará em lupe e sera sempre o proximo da sequencia), acumulando o resultado do fatorial.\n",
    "    sequencia += str(i) + \".\"       #converte i para uma string e adiciona um ponto (\".\") ao final, construindo a sequência de números.\n",
    "\n",
    "sequencia = sequencia.rstrip(\".\")   #A função rstrip(\".\") remove qualquer ponto (\".\") do final da string sequencia.\n",
    "print(f\"A sequência que representa o fatorial {F} é: {sequencia}, dá o resultado: {numero}\")"
   ]
  },
  {
   "cell_type": "code",
   "execution_count": 3,
   "metadata": {},
   "outputs": [
    {
     "name": "stdout",
     "output_type": "stream",
     "text": [
      "5 x 4 = 20\n",
      "5 x 5 = 25\n",
      "5 x 6 = 30\n",
      "5 x 7 = 35\n"
     ]
    }
   ],
   "source": [
    "#Desenvolva um programa que faça a tabuada de um número qualquer inteiro que será digitado pelo usuário,\n",
    "# mas a tabuada não deve necessariamente iniciar em 1 e terminar em 10, o valor inicial e final devem ser \n",
    "# informados também pelo usuário, conforme exemplo abaixo:\n",
    "#Montar a tabuada de: 5\n",
    "#Começar por: 4\n",
    "#Terminar em: 7\n",
    "\n",
    "multiplicador = int(input(\"Digite um número para ser multiplicado: \"))\n",
    "contador = int(input(\"Digite um número para ser final: \"))\n",
    "primeiro = int(input(\"Digite um número para ser inicial: \"))\n",
    "\n",
    "for i in range(primeiro, contador + 1): #estabeleci meu parametro\n",
    "    resultado = multiplicador * i #aqui eu coloquei o que eu precisava que acontecesse i é o indice dentro do intervalo fornecido nos input\n",
    "    print(f\"{multiplicador} x {i} = {resultado}\")"
   ]
  },
  {
   "cell_type": "code",
   "execution_count": 6,
   "metadata": {},
   "outputs": [
    {
     "name": "stdout",
     "output_type": "stream",
     "text": [
      "5 x 4 = 20\n",
      "5 x 5 = 25\n",
      "5 x 6 = 30\n",
      "5 x 7 = 35\n"
     ]
    }
   ],
   "source": [
    "multiplicador = int(input(\"Digite um número para ser multiplicado: \"))\n",
    "contador = int(input(\"Digite um número para ser para ser contado: \"))\n",
    "numero_final = int(input(f\"Digite um número para ser final: \"))\n",
    "\n",
    "while contador <= numero_final:\n",
    "  print(multiplicador, \"x\", contador, \"=\", multiplicador * contador)\n",
    "  contador = contador + 1"
   ]
  },
  {
   "cell_type": "code",
   "execution_count": 7,
   "metadata": {},
   "outputs": [
    {
     "name": "stdout",
     "output_type": "stream",
     "text": [
      "Salário no ano 2024: R$ 23631.74\n"
     ]
    }
   ],
   "source": [
    "#Um funcionário de uma empresa recebe aumento salarial anualmente: Sabe-se que:\n",
    "#Esse funcionário foi contratado em 1995, com salário inicial de R$ 1.000,00;\n",
    "#Em 1996 recebeu aumento de 1,5% sobre seu salário inicial;\n",
    "#A partir de 1997 (inclusive), os aumentos salariais sempre correspondem ao dobro do percentual do ano anterior. Faça um programa que determine o salário atual desse funcionário. Após concluir isto, altere o programa permitindo que o usuário digite o salário inicial do funcionário.\n",
    "\n",
    "ano_inicio = int(input(\"Digite o ano de contratação: \")) #ano de contratação\n",
    "ano_atual = int(input(\"Digite o ano atual: \")) # ano do salario final\n",
    "salario_inicial = float(input(\"Digite o salário inicial: \")) #salario em float pra ficar mais facil\n",
    "percentual_de_aumento = 1.5 / 100  #porcentagem em casa decimal pra fazilitar a conta\n",
    "\n",
    "#salario = salario_inicial    #atribiunido o salario que eu inseri no input\n",
    "\n",
    "for i in range(ano_inicio, ano_atual + 1):  #for para contar os anos e o periodo em range, + 1 pra incluir o ano que eu preciso\n",
    "      salario_inicial += salario_inicial * percentual_de_aumento #aqui eu quero dizer que o salario incial acresceta apenas uma vez o 1,5%\n",
    "      if i <= 1997:                                #se o ano for maior ou igual a 1997 ele tem somar duas vezes a porcetangem\n",
    "        percentual_de_aumento *= 2\n",
    "\n",
    "print(f\"Salário no ano {ano_atual}: R$ {salario_inicial:.2f}\")"
   ]
  },
  {
   "cell_type": "code",
   "execution_count": 9,
   "metadata": {},
   "outputs": [
    {
     "name": "stdout",
     "output_type": "stream",
     "text": [
      "Salário no ano 1995: R$ 1015.00\n",
      "Salário no ano 1996: R$ 1045.45\n",
      "Salário no ano 1997: R$ 1108.18\n",
      "Salário no ano 1998: R$ 1241.16\n",
      "Salário no ano 1999: R$ 1390.10\n",
      "Salário no ano 2000: R$ 1556.91\n",
      "Salário no ano 2001: R$ 1743.74\n",
      "Salário no ano 2002: R$ 1952.99\n",
      "Salário no ano 2003: R$ 2187.34\n",
      "Salário no ano 2004: R$ 2449.83\n",
      "Salário no ano 2005: R$ 2743.81\n",
      "Salário no ano 2006: R$ 3073.06\n",
      "Salário no ano 2007: R$ 3441.83\n",
      "Salário no ano 2008: R$ 3854.85\n",
      "Salário no ano 2009: R$ 4317.43\n",
      "Salário no ano 2010: R$ 4835.52\n",
      "Salário no ano 2011: R$ 5415.79\n",
      "Salário no ano 2012: R$ 6065.68\n",
      "Salário no ano 2013: R$ 6793.56\n",
      "Salário no ano 2014: R$ 7608.79\n",
      "Salário no ano 2015: R$ 8521.84\n",
      "Salário no ano 2016: R$ 9544.46\n",
      "Salário no ano 2017: R$ 10689.80\n",
      "Salário no ano 2018: R$ 11972.58\n",
      "Salário no ano 2019: R$ 13409.29\n",
      "Salário no ano 2020: R$ 15018.40\n",
      "Salário no ano 2021: R$ 16820.61\n",
      "Salário no ano 2022: R$ 18839.08\n",
      "Salário no ano 2023: R$ 21099.77\n",
      "Salário no ano 2024: R$ 23631.74\n"
     ]
    }
   ],
   "source": [
    "ano_inicio = int(input(\"Digite o ano de contratação: \")) #ano de contratação\n",
    "ano_atual = int(input(\"Digite o ano atual: \")) # ano do salario final\n",
    "salario_inicial = float(input(\"Digite o salário inicial: \")) #salario em float pra ficar mais facil\n",
    "percentual_de_aumento = 1.5 / 100  #porcentagem em casa decimal pra fazilitar a conta\n",
    "\n",
    "salario = salario_inicial    #atribiunido o salario que eu inseri no input\n",
    "\n",
    "for i in range(ano_inicio, ano_atual + 1):  #for para contar os anos e o periodo em range, + 1 pra incluir o ano que eu preciso\n",
    "      salario += salario * percentual_de_aumento #aqui eu quero dizer que o salario incial acresceta apenas uma vez o 1,5%\n",
    "      if i <= 1997:                                #se o ano for maior ou igual a 1997 ele tem somar duas vezes a porcetangem\n",
    "        percentual_de_aumento *= 2\n",
    "      print(f\"Salário no ano {i}: R$ {salario:.2f}\")"
   ]
  }
 ],
 "metadata": {
  "kernelspec": {
   "display_name": "Python 3",
   "language": "python",
   "name": "python3"
  },
  "language_info": {
   "codemirror_mode": {
    "name": "ipython",
    "version": 3
   },
   "file_extension": ".py",
   "mimetype": "text/x-python",
   "name": "python",
   "nbconvert_exporter": "python",
   "pygments_lexer": "ipython3",
   "version": "3.12.4"
  }
 },
 "nbformat": 4,
 "nbformat_minor": 2
}
