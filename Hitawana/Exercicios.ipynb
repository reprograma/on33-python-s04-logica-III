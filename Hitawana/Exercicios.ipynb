{
 "cells": [
  {
   "cell_type": "markdown",
   "metadata": {},
   "source": [
    "36 - Desenvolva um programa que faça a tabuada de um número qualquer inteiro que será digitado pelo usuário, mas a tabuada não deve necessariamente iniciar em 1 e terminar em 10, o valor inicial e final devem ser informados também pelo usuário, conforme exemplo abaixo:\n",
    "\n",
    "    Montar a tabuada de: 5\n",
    "    Começar por: 4\n",
    "    Terminar em: 7\n",
    "\n",
    "    Vou montar a tabuada de 5 começando em 4 e terminando em 7:\n",
    "    5 X 4 = 20\n",
    "    5 X 5 = 25\n",
    "    5 X 6 = 30\n",
    "    5 X 7 = 35\n",
    "\n",
    "    Obs: Você deve verificar se o usuário não digitou o final menor que o inicial. "
   ]
  },
  {
   "cell_type": "code",
   "execution_count": 4,
   "metadata": {},
   "outputs": [
    {
     "name": "stdout",
     "output_type": "stream",
     "text": [
      "Tabuada de multiplicação do numero 5:\n"
     ]
    }
   ],
   "source": [
    "numCasa= int(input(\"Digite a casa da tabuada que deseja consultar: \"))\n",
    "numFator1 = int(input(\"Digite o 1° fator para consulta: \"))\n",
    "numFator2 = int(input(\"informe até qual fator deseja consultar: \"))\n",
    "\n",
    "print(f\"Tabuada de multiplicação do numero {numCasa}:\")\n",
    "while numFator1 <= numFator2:\n",
    "    resultado = numCasa * numFator1\n",
    "    print(f\"{numCasa} x {numFator1} = {resultado}\")\n",
    "    numFator1 += 1"
   ]
  },
  {
   "cell_type": "markdown",
   "metadata": {},
   "source": [
    "38 - Um funcionário de uma empresa recebe aumento salarial anualmente: Sabe-se que:\n",
    "\n",
    "    a - Esse funcionário foi contratado em 1995, com salário inicial de R$ 1.000,00;\n",
    "    b - Em 1996 recebeu aumento de 1,5% sobre seu salário inicial;\n",
    "    c - A partir de 1997 (inclusive), os aumentos salariais sempre correspondem ao dobro do percentual do ano anterior. Faça um programa que determine o salário atual desse funcionário. Após concluir isto, altere o programa permitindo que o usuário digite o salário inicial do funcionário."
   ]
  },
  {
   "cell_type": "code",
   "execution_count": 27,
   "metadata": {},
   "outputs": [
    {
     "name": "stdout",
     "output_type": "stream",
     "text": [
      "O salário no ano de 2024 será de trilhões, convertido para notação científica seria 6.48e+67 de reais\n"
     ]
    }
   ],
   "source": [
    "def f_salario(valor):\n",
    "    unidades = [\"\", \"mil\", \"milhões\", \"bilhões\", \"trilhões\"]\n",
    "    i = 0\n",
    "    while valor >= 1000 and i < len(unidades) - 1:\n",
    "        valor /= 1000.0\n",
    "        i += 1\n",
    "    return f\"{unidades[i]}, convertido para notação científica seria {valor:.2e}\"\n",
    "\n",
    "def salario_atual(anoFinal, salario_inicial):\n",
    "\n",
    "    anoInicial = 1995\n",
    "    primeiro_aumento = (1.5/100)\n",
    "\n",
    "    salario_final = salario_inicial\n",
    "    for ano in range(anoInicial + 1, anoFinal + 1):\n",
    "        if ano == 1996:\n",
    "            aumento = primeiro_aumento\n",
    "        else:\n",
    "            aumento = primeiro_aumento * 2\n",
    "            primeiro_aumento = aumento\n",
    "\n",
    "        salario_final += salario_final * aumento\n",
    "\n",
    "    return salario_final\n",
    "\n",
    "ano_final = 2024\n",
    "salario_inicial = 1000.0\n",
    "salario_final = salario_atual(ano_final, salario_inicial)\n",
    "salario_formatado = f_salario(salario_final)\n",
    "print(f\"O salário no ano de {ano_final} será de {salario_formatado} de reais\")"
   ]
  },
  {
   "cell_type": "markdown",
   "metadata": {},
   "source": [
    "Alterção no programa, adicionando input. Dinâmica com usuario."
   ]
  },
  {
   "cell_type": "code",
   "execution_count": 23,
   "metadata": {},
   "outputs": [
    {
     "name": "stdout",
     "output_type": "stream",
     "text": [
      "O salario em 2024 do colaborador será de R$ 6.48e+79\n"
     ]
    }
   ],
   "source": [
    "salario_base = float(input(\"Digite o salário inicial do colaborador: \"))\n",
    "anoAtual = int(input(\"Digite o ano atual: \"))\n",
    "anoInicial = 1995\n",
    "aumento = (1.5/100)\n",
    "salario_final = salario_base\n",
    "\n",
    "for ano in range(1996, anoAtual + 1):\n",
    "    salario_final += salario_final * aumento\n",
    "    aumento *= 2 \n",
    "\n",
    "print(f\"O salario em {anoAtual} do colaborador será de R$ {salario_final:.2e}\")\n"
   ]
  },
  {
   "cell_type": "markdown",
   "metadata": {},
   "source": [
    "Faça um programa que calcule o fatorial de um número inteiro fornecido pelo usuário. Ex.: 5!=5.4.3.2.1=120. A saída deve ser conforme o exemplo abaixo:\n",
    "\n",
    "    Fatorial de: 5\n",
    "    5! =  5 . 4 . 3 . 2 . 1 = 120"
   ]
  },
  {
   "cell_type": "code",
   "execution_count": 31,
   "metadata": {},
   "outputs": [
    {
     "name": "stdout",
     "output_type": "stream",
     "text": [
      "Fatorial de: 6\n",
      "6! = 6 . 5 . 4 . 3 . 2 . 1 = 720\n"
     ]
    }
   ],
   "source": [
    "import math\n",
    "\n",
    "def calcFatorial(numero):\n",
    "    fatorial = math.factorial(numero)\n",
    "    convertText = str(numero) + \"! = \"\n",
    "    for i in range(numero, 0, -1):\n",
    "        convertText += str(i)\n",
    "        if i != 1:\n",
    "            convertText += \" . \"\n",
    "    convertText += \" = \" + str(fatorial)\n",
    "    return convertText\n",
    "\n",
    "numero = int(input(\"Informe um número inteiro para calcular o fatorial: \"))\n",
    "print(\"Fatorial de:\", numero)\n",
    "print(calcFatorial(numero))"
   ]
  },
  {
   "cell_type": "markdown",
   "metadata": {},
   "source": []
  }
 ],
 "metadata": {
  "kernelspec": {
   "display_name": "Python 3",
   "language": "python",
   "name": "python3"
  },
  "language_info": {
   "codemirror_mode": {
    "name": "ipython",
    "version": 3
   },
   "file_extension": ".py",
   "mimetype": "text/x-python",
   "name": "python",
   "nbconvert_exporter": "python",
   "pygments_lexer": "ipython3",
   "version": "3.12.4"
  }
 },
 "nbformat": 4,
 "nbformat_minor": 2
}
