{
 "cells": [
  {
   "cell_type": "markdown",
   "metadata": {},
   "source": [
    "Um funcionário de uma empresa recebe aumento salarial anualmente: Sabe-se que:\n",
    "a. Esse funcionário foi contratado em 1995, com salário inicial de R$ 1.000,00;\n",
    "b. Em 1996 recebeu aumento de 1,5% sobre seu salário inicial;\n",
    "c. A partir de 1997 (inclusive), os aumentos salariais sempre correspondem ao dobro do percentual do ano anterior. \n",
    "\n",
    "Faça um programa que determine o salário atual desse funcionário. Após concluir isto, altere o programa permitindo que o usuário digite o salário inicial do funcionário."
   ]
  },
  {
   "cell_type": "code",
   "execution_count": null,
   "metadata": {},
   "outputs": [],
   "source": [
    "salario_inicial = 1000\n",
    "aumento_percentual = 0.015\n",
    "ano_atual = 2024\n",
    "\n",
    "salario = salario_inicial * (1 + aumento_percentual)\n",
    "print(f'Salário em 1996 é {salario:.2f}')\n",
    "\n",
    "for i in range (1997, ano_atual + 1):\n",
    "    aumento_percentual *= 2\n",
    "    salario *= (1 + aumento_percentual)\n",
    "\n",
    "print(f'O salário em 2024 é: R$ {salario:.2f}')  \n"
   ]
  },
  {
   "cell_type": "markdown",
   "metadata": {},
   "source": [
    "Após concluir isto, altere o programa permitindo que o usuário digite o salário inicial do funcionário."
   ]
  },
  {
   "cell_type": "code",
   "execution_count": null,
   "metadata": {},
   "outputs": [],
   "source": [
    "salario_inicial_usuario = input('Digite o salário inicial: ')\n",
    "salario_inicial = float(salario_inicial_usuario)\n",
    "aumento_percentual = 0.015\n",
    "ano_atual = 2024\n",
    "\n",
    "salario = salario_inicial * (1 + aumento_percentual)\n",
    "print(f'Salário em 1996 é R${salario:.2f}')\n",
    "\n",
    "for i in range (1997, ano_atual + 1):\n",
    "    aumento_percentual *= 2\n",
    "    salario *= (1 + aumento_percentual)\n",
    "    print(f'O salário em {i} é igual a {salario:.2f}')\n",
    "\n",
    "print(f'Para um salário inicial de R${salario_inicial} O salário em 2024 é: R${salario:.2f}')  \n"
   ]
  }
 ],
 "metadata": {
  "kernelspec": {
   "display_name": "Python 3",
   "language": "python",
   "name": "python3"
  },
  "language_info": {
   "codemirror_mode": {
    "name": "ipython",
    "version": 3
   },
   "file_extension": ".py",
   "mimetype": "text/x-python",
   "name": "python",
   "nbconvert_exporter": "python",
   "pygments_lexer": "ipython3",
   "version": "3.12.3"
  }
 },
 "nbformat": 4,
 "nbformat_minor": 2
}
