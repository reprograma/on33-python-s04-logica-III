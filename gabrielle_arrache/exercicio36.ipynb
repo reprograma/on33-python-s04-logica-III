{
 "cells": [
  {
   "cell_type": "markdown",
   "metadata": {},
   "source": [
    "Desenvolva um programa que faça a tabuada de um número qualquer inteiro que será digitado pelo usuário, mas a tabuada não deve necessariamente iniciar em 1 e terminar em 10, o valor inicial e final devem ser informados também pelo usuário.\n",
    "Obs: Você deve verificar se o usuário não digitou o final menor que o inicial."
   ]
  },
  {
   "cell_type": "code",
   "execution_count": null,
   "metadata": {},
   "outputs": [],
   "source": [
    "tabuada_usuario = input('Qual tabuada você deseja montar? ')\n",
    "tabuada_inicio_usuario = input('Digite o número que você deseja começar: ')\n",
    "tabuada_fim_usuario = input('Digite o número que você deseja terminar (até 10): ')\n",
    "\n",
    "tabuada = int(tabuada_usuario)\n",
    "tabuada_inicio = int(tabuada_inicio_usuario)\n",
    "tabuada_fim = int(tabuada_fim_usuario)\n",
    "resultado = 0\n",
    "\n",
    "if tabuada_fim >= tabuada_inicio:\n",
    "    for i in range (tabuada_inicio, tabuada_fim + 1):\n",
    "        resultado = tabuada * i\n",
    "        print(f'{tabuada} x {i} = {resultado}')\n",
    "\n",
    "else:\n",
    "    print('Digite o número que deseja terminar maior que o número de início da tabuada.')"
   ]
  }
 ],
 "metadata": {
  "kernelspec": {
   "display_name": "Python 3",
   "language": "python",
   "name": "python3"
  },
  "language_info": {
   "codemirror_mode": {
    "name": "ipython",
    "version": 3
   },
   "file_extension": ".py",
   "mimetype": "text/x-python",
   "name": "python",
   "nbconvert_exporter": "python",
   "pygments_lexer": "ipython3",
   "version": "3.12.3"
  }
 },
 "nbformat": 4,
 "nbformat_minor": 2
}
