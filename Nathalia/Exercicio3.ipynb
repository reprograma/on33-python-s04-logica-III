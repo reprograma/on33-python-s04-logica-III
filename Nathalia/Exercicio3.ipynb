{
 "cells": [
  {
   "cell_type": "markdown",
   "metadata": {},
   "source": [
    "# Exercicio 3 - [32]\n",
    "\n",
    "Faça um programa que calcule o fatorial de um número inteiro fornecido pelo usuário. Ex.: 5!=5.4.3.2.1=120. A saída deve ser conforme o exemplo abaixo:\n",
    "\n",
    "Fatorial de: 5\n",
    "5! =  5 . 4 . 3 . 2 . 1 = 120"
   ]
  },
  {
   "cell_type": "code",
   "execution_count": 164,
   "metadata": {},
   "outputs": [
    {
     "name": "stdout",
     "output_type": "stream",
     "text": [
      "Fatorial de: 6 \n",
      "6! = 6 . 5 . 4 . 3 . 2 . 1 = 720.\n"
     ]
    }
   ],
   "source": [
    "num = int(input('Insira um número inteiro '))\n",
    "fatorial = 1\n",
    "lista = ''\n",
    "\n",
    "for i in range(num, 0, -1): #range começando do número que o usuário inseriu, terminando em zero, contagem regressiva\n",
    "    fatorial *= i # num inicial * range\n",
    "    lista += str(i) + (' . ' if i > 1 else ' = ') # variável criada para adicionar separação na range. Condicional para ignorar o menor caractere para formatação\n",
    "\n",
    "print(f'Fatorial de: {num} \\n{num}! = {lista}{fatorial}')"
   ]
  }
 ],
 "metadata": {
  "kernelspec": {
   "display_name": "Python 3",
   "language": "python",
   "name": "python3"
  },
  "language_info": {
   "codemirror_mode": {
    "name": "ipython",
    "version": 3
   },
   "file_extension": ".py",
   "mimetype": "text/x-python",
   "name": "python",
   "nbconvert_exporter": "python",
   "pygments_lexer": "ipython3",
   "version": "3.12.4"
  }
 },
 "nbformat": 4,
 "nbformat_minor": 2
}
