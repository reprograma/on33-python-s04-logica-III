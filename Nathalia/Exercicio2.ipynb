{
 "cells": [
  {
   "cell_type": "markdown",
   "metadata": {},
   "source": [
    "# Exercício 2 - [38]\n",
    "\n",
    "Um funcionário de uma empresa recebe aumento salarial anualmente: Sabe-se que:\n",
    "\n",
    "(a) Esse funcionário foi contratado em 1995, com salário inicial de R$ 1.000,00;\n",
    "\n",
    "(b) Em 1996 recebeu aumento de 1,5% sobre seu salário inicial;\n",
    "\n",
    "(c) A partir de 1997 (inclusive), os aumentos salariais sempre correspondem ao dobro do percentual do ano anterior. Faça um programa que determine o salário atual desse funcionário. Após concluir isto, altere o programa permitindo que o usuário digite o salário inicial do funcionário."
   ]
  },
  {
   "cell_type": "code",
   "execution_count": 33,
   "metadata": {},
   "outputs": [
    {
     "name": "stdout",
     "output_type": "stream",
     "text": [
      "Calculadora de Salário\n",
      "\n",
      "Salário inicial: R$1,000.00 \n",
      "Ano de ingresso: 1995 \n",
      "Primeiro aumento: R$1,015.00\n",
      "Percentual de aumento a partir de 1997: 1,5% dobrado a cada ano \n",
      "Percental de aumento em 2024: 4,026,531.84%\n",
      "Em 2024 o salário é de: R$8,053,064,680.45 por mês\n"
     ]
    }
   ],
   "source": [
    "# INTRODUÇÃO\n",
    "print('Calculadora de Salário')\n",
    "\n",
    "# VARIÁVEIS\n",
    "salarioInicial = float(input('Informe o salário inicial do funcionário: '))\n",
    "ano = 1997 # o while contabiliza a partir da primeira dobra, por isso o ano precisa ser 1997\n",
    "percentual = 1.5 / 100\n",
    "anoAtual = 2024\n",
    "salario1996 = salarioInicial + (salarioInicial * percentual)\n",
    "\n",
    "# CÁLCULO\n",
    "while ano <= anoAtual:\n",
    "    ano += 1 # loop do ano\n",
    "    percentual += percentual #loop da dobra do aumento percentual (equivale 1+1 = 1*2)\n",
    "    salario = salario1996 + (percentual * salarioInicial) \n",
    "\n",
    "print(f'\\nSalário inicial: R${salarioInicial:,.2f}', #vírgula como separador de milhar\n",
    "      '\\nAno de ingresso: 1995',\n",
    "      f'\\nPrimeiro aumento: R${salario1996:,.2f}'\n",
    "      '\\nPercentual de aumento a partir de 1997: 1,5% dobrado a cada ano',\n",
    "      f'\\nPercental de aumento em {anoAtual}: {percentual:,.2f}%'\n",
    "      f'\\nEm {anoAtual} o salário é de: R${salarioAtual:,.2f} por mês')\n"
   ]
  }
 ],
 "metadata": {
  "kernelspec": {
   "display_name": "Python 3",
   "language": "python",
   "name": "python3"
  },
  "language_info": {
   "codemirror_mode": {
    "name": "ipython",
    "version": 3
   },
   "file_extension": ".py",
   "mimetype": "text/x-python",
   "name": "python",
   "nbconvert_exporter": "python",
   "pygments_lexer": "ipython3",
   "version": "3.12.4"
  }
 },
 "nbformat": 4,
 "nbformat_minor": 2
}
