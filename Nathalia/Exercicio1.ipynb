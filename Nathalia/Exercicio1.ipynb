{
 "cells": [
  {
   "cell_type": "markdown",
   "metadata": {},
   "source": [
    "# EXERCÍCIO 1 - [36]\n",
    "\n",
    "**Desenvolva um programa que faça a tabuada de um número qualquer inteiro que será digitado pelo usuário, mas a tabuada não deve necessariamente iniciar em 1 e terminar em 10, o valor inicial e final devem ser informados também pelo usuário, conforme exemplo abaixo:**\n",
    "Montar a tabuada de: 5\n",
    "Começar por: 4\n",
    "Terminar em: 7\n",
    "\n",
    "Vou montar a tabuada de 5 começando em 4 e terminando em 7:\n",
    "5 X 4 = 20\n",
    "5 X 5 = 25\n",
    "5 X 6 = 30\n",
    "5 X 7 = 35\n",
    "\n",
    "*Obs: Você deve verificar se o usuário não digitou o final menor que o inicial.*"
   ]
  },
  {
   "cell_type": "code",
   "execution_count": null,
   "metadata": {},
   "outputs": [],
   "source": [
    "# introdução\n",
    "print('Calculadora de tabuada')\n",
    "print('-' * 25)\n",
    "\n",
    "# variáveis\n",
    "tabuadaDe = int(input('Calcular a tabuada de: '))\n",
    "comeco = int(input('Começando por: '))\n",
    "fim =  int(input('Terminando em: '))\n",
    "\n",
    "# condicional\n",
    "if comeco < fim: # verifica se atende ao critério de número inicial e final válido\n",
    "        print(f'A tabuada de {tabuadaDe} começando em {comeco} e terminando em {fim} é:')\n",
    "        for i in range(comeco, fim + 1): # range(número onde deve começar, número onde deve parar)\n",
    "              resultado = tabuadaDe * i\n",
    "              print(f'{tabuadaDe} x {i} = {resultado}')\n",
    "else: # retorna mensagem de erro\n",
    "    print('O número inicial inserido é maior que o número final, não é possível calcular. Tente novamente')"
   ]
  }
 ],
 "metadata": {
  "kernelspec": {
   "display_name": "Python 3",
   "language": "python",
   "name": "python3"
  },
  "language_info": {
   "codemirror_mode": {
    "name": "ipython",
    "version": 3
   },
   "file_extension": ".py",
   "mimetype": "text/x-python",
   "name": "python",
   "nbconvert_exporter": "python",
   "pygments_lexer": "ipython3",
   "version": "3.12.4"
  }
 },
 "nbformat": 4,
 "nbformat_minor": 2
}
