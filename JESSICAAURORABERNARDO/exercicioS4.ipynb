{
 "cells": [
  {
   "cell_type": "code",
   "execution_count": 4,
   "metadata": {},
   "outputs": [
    {
     "name": "stdout",
     "output_type": "stream",
     "text": [
      "5! = 5 . 4 . 3 . 2 . 1 = 120\n"
     ]
    }
   ],
   "source": [
    "#Exercicio 32: Faça um programa que calcule o fatorial de um número inteiro fornecido pelo usuário\n",
    "\n",
    "# Solicitar ao usuário a variavel de entrada\n",
    "numero = int(input('Digite um numero para obter seu fatorial: '))\n",
    "# Criando variavel para receber fatorial (0! = 1)\n",
    "fatorial = 1 \n",
    "\n",
    "# Calcular o fatorial\n",
    "for i in range(1, numero + 1):\n",
    "    fatorial *= i\n",
    "# Imprimir fatorial como solicitado\n",
    "print(f\"{numero}! =\", end=\" \")\n",
    "for i in range(numero, 0, -1):\n",
    "    if i == 1:\n",
    "        print(f\"{i} =\", end=\" \")\n",
    "    else:\n",
    "        print(f\"{i} .\", end=\" \")\n",
    "print(fatorial)"
   ]
  },
  {
   "cell_type": "code",
   "execution_count": 10,
   "metadata": {},
   "outputs": [
    {
     "name": "stdout",
     "output_type": "stream",
     "text": [
      "Vou montar a tabuada de 5 começando em 2 e terminando em 6:\n",
      "5 x 2 = 10\n",
      "5 x 3 = 15\n",
      "5 x 4 = 20\n",
      "5 x 5 = 25\n",
      "5 x 6 = 30\n"
     ]
    }
   ],
   "source": [
    "#Exercicio 36:Desenvolva um programa que faça a tabuada de um número qualquer inteiro que será digitado pelo usuário, mas a tabuada não deve necessariamente iniciar em 1 e terminar em 10, o valor inicial e final devem ser informados também pelo usuário.\n",
    "\n",
    "# Solicitar ao usuário as variaveis de entrada\n",
    "numero = int(input('Montar a tabuada de: '))\n",
    "inicio = int(input('Começando por: '))\n",
    "fim = int(input('Terminando em: '))\n",
    "\n",
    "# Verifica se o valor final é menor que o inicial\n",
    "if fim < inicio:\n",
    "    print('Erro: O valor final deve ser maior ou igual ao valor inicial.')\n",
    "else:\n",
    "    # Exibe a tabuada conforme especificado\n",
    "    print(f'Vou montar a tabuada de {numero} começando em {inicio} e terminando em {fim}:')\n",
    "    for i in range(inicio, fim + 1):\n",
    "        resultado = numero * i\n",
    "        print(f'{numero} x {i} = {resultado}')"
   ]
  },
  {
   "cell_type": "code",
   "execution_count": 13,
   "metadata": {},
   "outputs": [
    {
     "name": "stdout",
     "output_type": "stream",
     "text": [
      "O salário do funcionário atualmente é R$ 16088324439102575290435630651444932919564627342328716299616484873371385856.00\n"
     ]
    }
   ],
   "source": [
    "#Exercicio 38:Faça um programa que determine o salário atual desse funcionário.\n",
    "\n",
    "# Solicitar ao usuário o salário inicial\n",
    "salario_inicial = float(input('Digite o salário inicial do funcionário: '))\n",
    "\n",
    "# Definir variáveis de entrada\n",
    "ano_contratacao = 1995\n",
    "aumento_percentual = 0.015  # 1.5%\n",
    "\n",
    "# Definir o salário inicial como o salário atual\n",
    "salario_atual = salario_inicial\n",
    "\n",
    "# Calculando o salário ano a ano até o final de 2023\n",
    "for ano in range(1996, 2024):  # Até o final de 2023\n",
    "    aumento = salario_atual * aumento_percentual\n",
    "    salario_atual += aumento\n",
    "    aumento_percentual *= 2  # Dobrar o aumento percentual para o próximo ano\n",
    "\n",
    "# Exibindo o salário atual do funcionário contando apenas anos completos\n",
    "print(f'O salário do funcionário atualmente é R$ {salario_atual:.2f}')\n",
    "\n",
    "\n",
    "\n",
    "\n",
    "\n",
    "\n",
    "\n",
    "\n",
    "\n",
    "\n",
    "\n"
   ]
  }
 ],
 "metadata": {
  "kernelspec": {
   "display_name": "Python 3",
   "language": "python",
   "name": "python3"
  },
  "language_info": {
   "codemirror_mode": {
    "name": "ipython",
    "version": 3
   },
   "file_extension": ".py",
   "mimetype": "text/x-python",
   "name": "python",
   "nbconvert_exporter": "python",
   "pygments_lexer": "ipython3",
   "version": "3.12.3"
  }
 },
 "nbformat": 4,
 "nbformat_minor": 2
}
