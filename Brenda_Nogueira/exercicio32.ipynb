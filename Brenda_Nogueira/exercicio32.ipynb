{
 "cells": [
  {
   "cell_type": "markdown",
   "metadata": {},
   "source": [
    "Faça um programa que calcule o fatorial de um número inteiro fornecido pelo usuário. Ex.: 5!=5.4.3.2.1=120. A saída deve ser conforme o exemplo abaixo:\n",
    "Fatorial de: 5\n",
    "5! =  5 . 4 . 3 . 2 . 1 = 120"
   ]
  },
  {
   "cell_type": "code",
   "execution_count": 65,
   "metadata": {},
   "outputs": [
    {
     "name": "stdout",
     "output_type": "stream",
     "text": [
      " Fatorial de: 5\n",
      "5!  5 .  4 .  3 .  2 .  1 =  120\n"
     ]
    }
   ],
   "source": [
    "numero = int(input(\"Digite um numero: \"))\n",
    "Fatorial = 1\n",
    "\n",
    "for i in range(1, numero +1):\n",
    "    Fatorial *= i\n",
    "\n",
    "print(f\" Fatorial de: {numero}\")\n",
    "print(f\"{numero}! \", end= \" \")\n",
    "\n",
    "for L in range(numero, 0, -1):\n",
    "    if L == 1:\n",
    "        print(f\"{L} = \", end= \" \")\n",
    "    else:\n",
    "        print(f\"{L} . \", end= \" \")\n",
    "\n",
    "\n",
    "print(Fatorial)\n",
    "\n",
    "\n",
    " \n",
    "\n",
    "\n"
   ]
  }
 ],
 "metadata": {
  "kernelspec": {
   "display_name": "Python 3",
   "language": "python",
   "name": "python3"
  },
  "language_info": {
   "codemirror_mode": {
    "name": "ipython",
    "version": 3
   },
   "file_extension": ".py",
   "mimetype": "text/x-python",
   "name": "python",
   "nbconvert_exporter": "python",
   "pygments_lexer": "ipython3",
   "version": "3.12.4"
  }
 },
 "nbformat": 4,
 "nbformat_minor": 2
}
