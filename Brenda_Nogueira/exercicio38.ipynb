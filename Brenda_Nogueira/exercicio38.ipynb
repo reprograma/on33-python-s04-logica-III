{
 "cells": [
  {
   "cell_type": "markdown",
   "metadata": {},
   "source": [
    "Um funcionário de uma empresa recebe aumento salarial anualmente: Sabe-se que:\n",
    "Esse funcionário foi contratado em 1995, com salário inicial de R$ 1.000,00;\n",
    "Em 1996 recebeu aumento de 1,5% sobre seu salário inicial;\n",
    "A partir de 1997 (inclusive), os aumentos salariais sempre correspondem ao dobro do percentual do ano anterior. Faça um programa que determine o salário atual desse funcionário. Após concluir isto, altere o programa permitindo que o usuário digite o salário inicial do funcionário."
   ]
  },
  {
   "cell_type": "code",
   "execution_count": 2,
   "metadata": {},
   "outputs": [
    {
     "name": "stdout",
     "output_type": "stream",
     "text": [
      " O Salário atual do funcionário é R$65751869195040394832292763089147633707188467765592496729977280431991398288326656.00 \n"
     ]
    }
   ],
   "source": [
    "Salario_inicial = float(input(\"Digite o salário inicial: \"))\n",
    "Ano_inicio = 1995\n",
    "Percentual = 1.5 / 100\n",
    "\n",
    "resultado = Salario_inicial + (Salario_inicial * Percentual)\n",
    "Ano_Atual = Ano_inicio + 1\n",
    "\n",
    "while Ano_Atual <=2024:\n",
    "    resultado += resultado * Percentual\n",
    "    Percentual *= 2\n",
    "    Ano_Atual += 1\n",
    "\n",
    "print(f\" O Salário atual do funcionário é R$ {resultado:.2f} \")"
   ]
  }
 ],
 "metadata": {
  "kernelspec": {
   "display_name": "Python 3",
   "language": "python",
   "name": "python3"
  },
  "language_info": {
   "codemirror_mode": {
    "name": "ipython",
    "version": 3
   },
   "file_extension": ".py",
   "mimetype": "text/x-python",
   "name": "python",
   "nbconvert_exporter": "python",
   "pygments_lexer": "ipython3",
   "version": "3.12.4"
  }
 },
 "nbformat": 4,
 "nbformat_minor": 2
}
