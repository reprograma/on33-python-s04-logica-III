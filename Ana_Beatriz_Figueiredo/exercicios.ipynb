{
 "cells": [
  {
   "cell_type": "markdown",
   "metadata": {},
   "source": [
    "Desenvolva um programa que faça a tabuada de um número qualquer inteiro que será digitado pelo usuário, mas a tabuada não deve necessariamente iniciar em 1 e terminar em 10, o valor inicial e final devem ser informados também pelo usuário"
   ]
  },
  {
   "cell_type": "code",
   "execution_count": 7,
   "metadata": {},
   "outputs": [
    {
     "name": "stdout",
     "output_type": "stream",
     "text": [
      "A tabuada de 5 x 2 é 10\n",
      "A tabuada de 5 x 3 é 15\n",
      "A tabuada de 5 x 4 é 20\n",
      "A tabuada de 5 x 5 é 25\n",
      "A tabuada de 5 x 6 é 30\n",
      "A tabuada de 5 x 7 é 35\n",
      "A tabuada de 5 x 8 é 40\n",
      "A tabuada de 5 x 9 é 45\n",
      "A tabuada de 5 x 10 é 50\n"
     ]
    }
   ],
   "source": [
    "tabuada = int(input(\"Digite um número para fazer a tabuada: \"))\n",
    "inicio = int(input(\"Qual número deve começar? \"))\n",
    "fim = int(input(\"Qual número deve terminar? \"))\n",
    "\n",
    "while fim < inicio:\n",
    "    print(\"O número final deve ser maior que o número inicial.\")\n",
    "    fim = int(input(\"Qual número deve terminar? \"))\n",
    "\n",
    "\n",
    "while fim >= inicio:\n",
    "    resultado = inicio * tabuada\n",
    "    print(f\"A tabuada de {tabuada} x {inicio} é {resultado}\" )\n",
    "    inicio = inicio + 1"
   ]
  },
  {
   "cell_type": "markdown",
   "metadata": {},
   "source": [
    "Um funcionário de uma empresa recebe aumento salarial anualmente: Sabe-se que:\n",
    "Esse funcionário foi contratado em 1995, com salário inicial de R$ 1.000,00;\n",
    "Em 1996 recebeu aumento de 1,5% sobre seu salário inicial;\n",
    "A partir de 1997 (inclusive), os aumentos salariais sempre correspondem ao dobro do percentual do ano anterior. Faça um programa que determine o salário atual desse funcionário. Após concluir isto, altere o programa permitindo que o usuário digite o salário inicial do funcionário."
   ]
  },
  {
   "cell_type": "code",
   "execution_count": 15,
   "metadata": {},
   "outputs": [
    {
     "name": "stdout",
     "output_type": "stream",
     "text": [
      "O salário atual do funcionário é 8,053,064,665.00\n"
     ]
    }
   ],
   "source": [
    "salario_inicial = 1000\n",
    "ano_inicial = 1995\n",
    "percentual_aumento = 1.5 / 100\n",
    "ano_final = 2024\n",
    "salario_atual = salario_inicial\n",
    "\n",
    "for ano in range (ano_inicial + 1, ano_final + 1):\n",
    "    aumento = salario_inicial * (percentual_aumento)\n",
    "    percentual_aumento = percentual_aumento * 2\n",
    "    salario_atual = salario_atual + aumento\n",
    "\n",
    "print(f'O salário atual do funcionário é {salario_atual:,.2f}')\n",
    "    \n",
    "    "
   ]
  },
  {
   "cell_type": "markdown",
   "metadata": {},
   "source": [
    "Faça um programa que calcule o fatorial de um número inteiro fornecido pelo usuário. Ex.: 5!=5.4.3.2.1=120."
   ]
  },
  {
   "cell_type": "code",
   "execution_count": 17,
   "metadata": {},
   "outputs": [
    {
     "name": "stdout",
     "output_type": "stream",
     "text": [
      "O fatorial de 5! é: 120\n"
     ]
    }
   ],
   "source": [
    "numero = int(input(\"Insira um número\"))\n",
    "\n",
    "if numero == 0 or numero == 1:\n",
    "    print(\" O resultado é 1\") \n",
    "\n",
    "fatorial = 1\n",
    "for i in range(2, numero + 1):\n",
    "    fatorial = fatorial * i\n",
    "\n",
    "print(f'O fatorial de {numero}! é: {fatorial}')\n",
    "\n"
   ]
  }
 ],
 "metadata": {
  "kernelspec": {
   "display_name": "Python 3",
   "language": "python",
   "name": "python3"
  },
  "language_info": {
   "codemirror_mode": {
    "name": "ipython",
    "version": 3
   },
   "file_extension": ".py",
   "mimetype": "text/x-python",
   "name": "python",
   "nbconvert_exporter": "python",
   "pygments_lexer": "ipython3",
   "version": "3.12.4"
  }
 },
 "nbformat": 4,
 "nbformat_minor": 2
}
