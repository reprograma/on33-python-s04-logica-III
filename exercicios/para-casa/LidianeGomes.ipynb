{
 "cells": [
  {
   "cell_type": "markdown",
   "metadata": {},
   "source": [
    "### Exercício 36"
   ]
  },
  {
   "cell_type": "markdown",
   "metadata": {},
   "source": [
    "Desenvolva um programa que faça a tabuada de um número qualquer inteiro que será digitado pelo usuário, mas a tabuada não deve necessariamente iniciar em 1 e terminar em 10, o valor inicial e final devem ser informados também pelo usuário, conforme exemplo abaixo:\n",
    "\n",
    "Montar a tabuada de: 5 \\\n",
    "Começar por: 4 \\\n",
    "Terminar em: 7 \n",
    "\n",
    "Vou montar a tabuada de 5 começando em 4 e terminando em 7: \\\n",
    "5 X 4 = 20 \\\n",
    "5 X 5 = 25 \\\n",
    "5 X 6 = 30 \\\n",
    "5 X 7 = 35 "
   ]
  },
  {
   "cell_type": "code",
   "execution_count": 17,
   "metadata": {},
   "outputs": [
    {
     "name": "stdout",
     "output_type": "stream",
     "text": [
      "5 x 6 = 30\n",
      "5 x 7 = 35\n",
      "5 x 8 = 40\n",
      "5 x 9 = 45\n"
     ]
    }
   ],
   "source": [
    "num = int(input(\"Digite um número inteiro para saber a tabuada dele: \"))\n",
    "inicio = int(input(\"Deseja iniciar a multiplicação a partir de qual número? \"))\n",
    "final = int(input(\"Deseja finalizar a multiplicação em qual número? \"))\n",
    "\n",
    "while inicio <= final:\n",
    "    resultado = num * inicio\n",
    "    print(num, \"x\", inicio, \"=\", resultado)\n",
    "    inicio += 1\n",
    "\n",
    "try:\n",
    "    if inicio > 10:\n",
    "        print(\"Digite um número de 1 a 10 para iniciar.\")\n",
    "    if final > 10:\n",
    "        print(\"Digite um número de 1 a 10 para finalizar.\") \n",
    "except ValueError:\n",
    "    print(\"Digite apenas números.\")"
   ]
  },
  {
   "cell_type": "markdown",
   "metadata": {},
   "source": [
    "### Exercício 38"
   ]
  },
  {
   "cell_type": "markdown",
   "metadata": {},
   "source": [
    "Um funcionário de uma empresa recebe aumento salarial anualmente: Sabe-se que:\n",
    "- Esse funcionário foi contratado em 1995, com salário inicial de R$ 1.000,00;\n",
    "- Em 1996 recebeu aumento de 1,5% sobre seu salário inicial;\n",
    "- A partir de 1997 (inclusive), os aumentos salariais sempre correspondem ao dobro do percentual do ano anterior. Faça um programa que determine o salário atual desse funcionário. Após concluir isto, altere o programa permitindo que o usuário digite o salário inicial do funcionário."
   ]
  },
  {
   "cell_type": "code",
   "execution_count": 1,
   "metadata": {},
   "outputs": [
    {
     "name": "stdout",
     "output_type": "stream",
     "text": [
      "O salário atual em 2024 do funcionário é de R$ 23,631.74\n"
     ]
    }
   ],
   "source": [
    "salario = int(input(\"Digite o salário inicial do funcionário: \"))\n",
    "ano_inicial = int(input(\"Digite o ano em que o funcionário entrou na empresa: \"))\n",
    "ano_atual = int(input(\"Digite o ano atual: \"))\n",
    "porcentagem = 1.5 / 100\n",
    "\n",
    "for ano in range(ano_inicial, ano_atual + 1):\n",
    "    salario += salario * porcentagem\n",
    "    if ano <= 1997:\n",
    "        porcentagem *= 2\n",
    "    #print(f\"Em {ano} e salário é de R$ {salario:.2f}\")\n",
    "\n",
    "print(f\"O salário atual em {ano} do funcionário é de R$ {salario:,.2f}\")"
   ]
  },
  {
   "cell_type": "markdown",
   "metadata": {},
   "source": [
    "### Exercício 32"
   ]
  },
  {
   "cell_type": "markdown",
   "metadata": {},
   "source": [
    "Faça um programa que calcule o fatorial de um número inteiro fornecido pelo usuário. Ex.: 5!=5.4.3.2.1=120. A saída deve ser conforme o exemplo abaixo: \\\n",
    " \\\n",
    "Fatorial de: 5 \\\n",
    "5! =  5 . 4 . 3 . 2 . 1 = 120"
   ]
  },
  {
   "cell_type": "code",
   "execution_count": 11,
   "metadata": {},
   "outputs": [
    {
     "name": "stdout",
     "output_type": "stream",
     "text": [
      "Fatorial de: 5\n",
      "5! = 5.4.3.2.1 = 120\n"
     ]
    }
   ],
   "source": [
    "num = int(input(\"Digite um número inteiro: \"))\n",
    "fatorial = 1\n",
    "\n",
    "print(f\"Fatorial de: {num}\")\n",
    "print(f\"{num}! =\", end=\" \")\n",
    "\n",
    "for n in range(num, 0, -1):\n",
    "    print(n, end=\"\")\n",
    "    print(\".\" if n > 1 else \" = \", end=\"\")\n",
    "    fatorial *= n\n",
    "    \n",
    "print(fatorial)"
   ]
  }
 ],
 "metadata": {
  "kernelspec": {
   "display_name": "Python 3",
   "language": "python",
   "name": "python3"
  },
  "language_info": {
   "codemirror_mode": {
    "name": "ipython",
    "version": 3
   },
   "file_extension": ".py",
   "mimetype": "text/x-python",
   "name": "python",
   "nbconvert_exporter": "python",
   "pygments_lexer": "ipython3",
   "version": "3.12.4"
  }
 },
 "nbformat": 4,
 "nbformat_minor": 2
}
