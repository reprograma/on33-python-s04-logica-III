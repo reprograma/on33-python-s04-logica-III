{
 "cells": [
  {
   "cell_type": "markdown",
   "metadata": {},
   "source": [
    "# Desenvolva um programa que faça a tabuada de um número qualquer inteiro que será digitado pelo usuário, mas a tabuada não deve necessariamente iniciar em 1 e terminar em 10, o valor inicial e final devem ser informados também pelo usuário"
   ]
  },
  {
   "cell_type": "code",
   "execution_count": 9,
   "metadata": {},
   "outputs": [
    {
     "name": "stdout",
     "output_type": "stream",
     "text": [
      "Monte a sua propria tabuada, começando e terminando pelo número que quiser\n",
      "\n"
     ]
    }
   ],
   "source": [
    "print(\"Monte a sua propria tabuada, começando e terminando pelo número que quiser\\n\")\n",
    "\n",
    "num = int(input(\"Monte a tabuada de: \"))\n",
    "num2 = int(input(\"Começar por: \"))\n",
    "num3 = int(input(\"Terminar em:\"))\n",
    "contador = num2\n",
    "print(f\"Vou montar a tabuada de {num} começando em {num2} e terminando em:\\n {num3}\")\n",
    "\n",
    "while contador<=num3:\n",
    "    resultado = num * contador\n",
    "    print(f\" {num} x {contador} = {resultado}\")\n",
    "    contador +=1\n",
    "\n",
    "print(\"FIM!\")"
   ]
  }
 ],
 "metadata": {
  "kernelspec": {
   "display_name": "Python 3",
   "language": "python",
   "name": "python3"
  },
  "language_info": {
   "codemirror_mode": {
    "name": "ipython",
    "version": 3
   },
   "file_extension": ".py",
   "mimetype": "text/x-python",
   "name": "python",
   "nbconvert_exporter": "python",
   "pygments_lexer": "ipython3",
   "version": "3.12.3"
  }
 },
 "nbformat": 4,
 "nbformat_minor": 2
}
