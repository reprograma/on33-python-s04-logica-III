{
 "cells": [
  {
   "cell_type": "markdown",
   "metadata": {},
   "source": [
    "#### EXERCÍCIO 32:\n",
    "Faça um programa que calcule o fatorial de um número inteiro fornecido pelo usuário. Ex.: 5!=5.4.3.2.1=120. A saída deve ser conforme o exemplo abaixo:\n",
    "\n",
    "> Fatorial de: 5  \n",
    "> 5! =  5 . 4 . 3 . 2 . 1 = 120\n"
   ]
  },
  {
   "cell_type": "code",
   "execution_count": 83,
   "metadata": {},
   "outputs": [
    {
     "name": "stdout",
     "output_type": "stream",
     "text": [
      "Fatorial de: 5\n",
      "5! =  5 . 4 . 3 . 2 . 1 . = 120\n"
     ]
    }
   ],
   "source": [
    "numero = int(input(\"Digite um número inteiro\"))\n",
    "\n",
    "fatorial = 1\n",
    "\n",
    "print(f\"Fatorial de: {numero}\")\n",
    "print(f\"{numero}! = \", end=\" \")\n",
    "\n",
    "for i in range(numero, 0, -1):\n",
    "    fatorial = fatorial * i\n",
    "    print(i,\".\", end=\" \")\n",
    "\n",
    "print(f\"= {fatorial}\")\n",
    "\n",
    "\n"
   ]
  },
  {
   "cell_type": "markdown",
   "metadata": {},
   "source": [
    "### EXERCÍCIO 36:\n",
    "Desenvolva um programa que faça a tabuada de um número qualquer inteiro que será digitado pelo  usuário, mas a tabuada não deve necessariamente iniciar em 1 e terminar em 10, o valor inicial e final devem ser informados também pelo usuário, conforme exemplo abaixo:\n",
    "\n",
    "> Montar a tabuada de: 5\n",
    "> Começar por: 4\n",
    "> Terminar em: 7\n",
    "\n",
    "> Vou montar a tabuada de 5 começando em 4 e terminando em 7:\n",
    "> 5 X 4 = 20\n",
    "> 5 X 5 = 25\n",
    "> 5 X 6 = 30\n",
    "> 5 X 7 = 35\n",
    "\n"
   ]
  },
  {
   "cell_type": "code",
   "execution_count": 2,
   "metadata": {},
   "outputs": [
    {
     "name": "stdout",
     "output_type": "stream",
     "text": [
      "Vou montar a tabuada de 2, começando em 0 e terminando em 10:\n",
      "2 x 0 = 0\n",
      "2 x 1 = 2\n",
      "2 x 2 = 4\n",
      "2 x 3 = 6\n",
      "2 x 4 = 8\n",
      "2 x 5 = 10\n",
      "2 x 6 = 12\n",
      "2 x 7 = 14\n",
      "2 x 8 = 16\n",
      "2 x 9 = 18\n",
      "2 x 10 = 20\n",
      "Fim!\n"
     ]
    }
   ],
   "source": [
    "numero = int(input(\"Digite o número cuja tabuada você quer construir\"))\n",
    "inicial = int(input(\"Digite o multiplicador inicial da tabuada\"))\n",
    "final = int(input(\"Digite o multiplicador final da tabuada\"))\n",
    "\n",
    "multiplicador = inicial\n",
    "\n",
    "print(f\"Vou montar a tabuada de {numero}, começando em {inicial} e terminando em {final}:\")\n",
    "\n",
    "while multiplicador <= final:\n",
    "    resultado = numero * multiplicador\n",
    "    print(f\"{numero} x {multiplicador} = {resultado}\")\n",
    "    multiplicador += 1\n",
    "\n",
    "print(\"Fim!\")"
   ]
  },
  {
   "cell_type": "markdown",
   "metadata": {},
   "source": [
    "### EXERCÍCIO 38:\n",
    "\n",
    "Um funcionário de uma empresa recebe aumento salarial anualmente: Sabe-se que:\n",
    "\n",
    "- a. Esse funcionário foi contratado em 1995, com salário inicial de R$ 1.000,00;\n",
    "- b. Em 1996 recebeu aumento de 1,5% sobre seu salário inicial;\n",
    "- c. A partir de 1997 (inclusive), os aumentos salariais sempre correspondem ao dobro do percentual do ano anterior.\n",
    "\n",
    "Faça um programa que determine o salário atual desse funcionário. Após concluir isto, altere o programa permitindo que o usuário digite o salário inicial do funcionário."
   ]
  },
  {
   "cell_type": "code",
   "execution_count": 68,
   "metadata": {},
   "outputs": [
    {
     "name": "stdout",
     "output_type": "stream",
     "text": [
      "1997 1045.4499999999998\n",
      "1998 1108.177\n",
      "1999 1241.15824\n",
      "2000 1539.0362175999999\n",
      "2001 2277.7736020479997\n",
      "2002 4464.436260014079\n",
      "2003 13036.153879241112\n",
      "2004 63094.98477552698\n",
      "2005 547664.4678515742\n",
      "2006 8959790.694051754\n",
      "2007 284204560.8153216\n",
      "2008 17745732777.30868\n",
      "2009 2198341376452.9993\n",
      "2010 542462718053542.06\n",
      "2011 2.6717373789573053e+17\n",
      "2012 2.6290964503891467e+20\n",
      "2013 5.1716430456314824e+23\n",
      "2014 2.034089956135592e+27\n",
      "2015 1.5998768413792394e+31\n",
      "2016 2.516548675923254e+35\n",
      "2017 7.916629288082298e+39\n",
      "2018 4.980791649720991e+44\n",
      "2019 6.267336109793902e+49\n",
      "2020 1.5772330422152897e+55\n",
      "2021 7.938489601805332e+60\n",
      "2022 7.991153224284124e+66\n",
      "2023 1.608832443910257e+73\n",
      "2024 6.478016669462107e+79\n",
      "O salário em 2024 é R$ 64780166694621071389588518512457699362489192028238654588493204328624246784786432.00 e o aumento atual é de 4026531.84\n"
     ]
    }
   ],
   "source": [
    "salario = int(input(\"Digite o salário inicial\"))\n",
    "aumento = float(0.015)\n",
    "\n",
    "ano = 1996\n",
    "ano_final = 2024\n",
    "\n",
    "while ano <= ano_final:\n",
    "    if ano == 1996:\n",
    "        salario = salario * (1+ aumento)\n",
    "\n",
    "    else:\n",
    "        aumento = aumento * 2    \n",
    "        salario = salario * (1 + aumento)\n",
    "       \n",
    "    ano += 1\n",
    "    \n",
    "    \n",
    "print(f\"O salário em {ano_final} é R${salario: .2f} e o aumento atual é de {aumento}\")\n",
    "\n"
   ]
  }
 ],
 "metadata": {
  "kernelspec": {
   "display_name": "Python 3",
   "language": "python",
   "name": "python3"
  },
  "language_info": {
   "codemirror_mode": {
    "name": "ipython",
    "version": 3
   },
   "file_extension": ".py",
   "mimetype": "text/x-python",
   "name": "python",
   "nbconvert_exporter": "python",
   "pygments_lexer": "ipython3",
   "version": "3.12.3"
  }
 },
 "nbformat": 4,
 "nbformat_minor": 2
}
