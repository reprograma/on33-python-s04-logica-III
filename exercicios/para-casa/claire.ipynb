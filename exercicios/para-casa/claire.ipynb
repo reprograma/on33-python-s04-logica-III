{
 "cells": [
  {
   "cell_type": "markdown",
   "metadata": {},
   "source": [
    "36) Desenvolva um programa que faça a tabuada de um número qualquer inteiro que será digitado pelo usuário, mas a tabuada não deve necessariamente iniciar em 1 e terminar em 10, o valor inicial e final devem ser informados também pelo usuário, conforme exemplo abaixo:\n",
    "Montar a tabuada de: 5\n",
    "Começar por: 4\n",
    "Terminar em: 7\n",
    "\n",
    "Vou montar a tabuada de 5 começando em 4 e terminando em 7:\n",
    "5 X 4 = 20\n",
    "5 X 5 = 25\n",
    "5 X 6 = 30\n",
    "5 X 7 = 35\n"
   ]
  },
  {
   "cell_type": "code",
   "execution_count": null,
   "metadata": {
    "vscode": {
     "languageId": "plaintext"
    }
   },
   "outputs": [],
   "source": [
    "\n",
    "numero = int(input(\"Digite um número: \"))\n",
    "contador_inicial = int(input(\"Digite o valor inicial da tabuada: \"))\n",
    "final = int(input(\"Digite o valor  final da tabuada: \"))\n",
    "\n",
    "\n",
    "\n",
    "while contador_inicial <= final:\n",
    "    resultado = numero * contador_inicial\n",
    "    print(f\"{numero} x {contador_inicial} = {resultado}\")\n",
    "    contador_inicial += 1\n",
    "    \n",
    "print(\"Final\")\n"
   ]
  },
  {
   "cell_type": "markdown",
   "metadata": {},
   "source": [
    "Um funcionário de uma empresa recebe aumento salarial anualmente: Sabe-se que:\n",
    "a - Esse funcionário foi contratado em 1995, com salário inicial de R$ 1.000,00;\n",
    "b - Em 1996 recebeu aumento de 1,5% sobre seu salário inicial;\n",
    "c- A partir de 1997 (inclusive), os aumentos salariais sempre correspondem ao dobro do percentual do ano anterior. Faça um programa que determine o salário atual desse funcionário. Após concluir isto, altere o programa permitindo que o usuário digite o salário inicial do funcionário.\n",
    "\n"
   ]
  },
  {
   "cell_type": "code",
   "execution_count": null,
   "metadata": {
    "vscode": {
     "languageId": "plaintext"
    }
   },
   "outputs": [],
   "source": [
    "\n",
    "salario = float(input(\"Digite o salário inicial do funcionario: \"))\n",
    "ano = 1995\n",
    "ano_atual = int(input(\"Digite em que ano estamos: \"))\n",
    "aumento = 1.5 / 100\n",
    "\n",
    "while ano < ano_atual:\n",
    "     ano += 1\n",
    "     salario *= 1 + aumento\n",
    "     aumento *= 2\n",
    "\n",
    "print(f'Salario  em {ano} é  de R$ {salario:.2f}')\n",
    "\n"
   ]
  },
  {
   "cell_type": "markdown",
   "metadata": {},
   "source": [
    "Faça um programa que calcule o fatorial de um número inteiro fornecido pelo usuário. Ex.: 5!=5.4.3.2.1=120. A saída deve ser conforme o exemplo abaixo:\n",
    "Fatorial de: 5\n",
    "5! =  5 . 4 . 3 . 2 . 1 = 120"
   ]
  },
  {
   "cell_type": "code",
   "execution_count": null,
   "metadata": {
    "vscode": {
     "languageId": "plaintext"
    }
   },
   "outputs": [],
   "source": [
    "numero_fatorial = int(input(\"Digite um número para calcular o fatorial: \"))\n",
    "contador = numero_fatorial\n",
    "fatorial = 1\n",
    "while contador > 0:\n",
    "    print(f\"  {contador} \" , end='')\n",
    "    print(' x ' if contador > 1 else \" = \", end=\" \")\n",
    "    fatorial *= contador\n",
    "    contador-= 1\n",
    "    \n",
    "\n",
    "print(f\" {fatorial}\")\n"
   ]
  }
 ],
 "metadata": {
  "language_info": {
   "name": "python"
  }
 },
 "nbformat": 4,
 "nbformat_minor": 2
}
