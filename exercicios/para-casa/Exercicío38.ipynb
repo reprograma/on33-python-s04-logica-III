{
 "cells": [
  {
   "cell_type": "markdown",
   "metadata": {},
   "source": [
    "# Um funcionário de uma empresa recebe aumento salarial anualmente: Sabe-se que:\n",
    "# Esse funcionário foi contratado em 1995, com salário inicial de R$ 1.000,00;\n",
    "# Em 1996 recebeu aumento de 1,5% sobre seu salário inicial;\n",
    "# A partir de 1997 (inclusive), os aumentos salariais sempre correspondem ao dobro do percentual do ano anterior. Faça um programa que determine o salário atual desse funcionário. Após concluir isto, altere o programa permitindo que o usuário digite o salário inicial do funcionário."
   ]
  },
  {
   "cell_type": "code",
   "execution_count": 1,
   "metadata": {},
   "outputs": [
    {
     "name": "stdout",
     "output_type": "stream",
     "text": [
      "O salário atual do funcionário é: R$ 268491827445.76\n"
     ]
    }
   ],
   "source": [
    "salario_inicial = float(input(\"Digite o salario inicial\"))\n",
    "ano_contratacao = 1995\n",
    "ano_atual = 2024\n",
    "percentual_aumento = 1.5 / 100\n",
    "\n",
    "salario_atual = salario_inicial\n",
    "\n",
    "for ano in range(1996, ano_atual):     \n",
    "    aumento = (salario_atual + percentual_aumento) \n",
    "    salario_atual = salario_atual + aumento \n",
    "    percentual_aumento *= 2\n",
    "\n",
    "print(f\"O salário atual do funcionário é: R$ {salario_atual:.2f}\")\n"
   ]
  }
 ],
 "metadata": {
  "kernelspec": {
   "display_name": "Python 3",
   "language": "python",
   "name": "python3"
  },
  "language_info": {
   "codemirror_mode": {
    "name": "ipython",
    "version": 3
   },
   "file_extension": ".py",
   "mimetype": "text/x-python",
   "name": "python",
   "nbconvert_exporter": "python",
   "pygments_lexer": "ipython3",
   "version": "3.12.3"
  }
 },
 "nbformat": 4,
 "nbformat_minor": 2
}
