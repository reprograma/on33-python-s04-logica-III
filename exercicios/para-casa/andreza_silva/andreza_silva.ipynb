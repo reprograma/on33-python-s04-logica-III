{
 "cells": [
  {
   "cell_type": "markdown",
   "metadata": {},
   "source": [
    "Desenvolva um programa que faça a tabuada de um número qualquer inteiro que será digitado pelo usuário, mas a tabuada não deve necessariamente iniciar em 1 e terminar em 10, o valor inicial e final devem ser informados também pelo usuário, conforme exemplo abaixo:\n",
    "Montar a tabuada de: 5\n",
    "Começar por: 4\n",
    "Terminar em: 7\n",
    "\n",
    "Vou montar a tabuada de 5 começando em 4 e terminando em 7:\n",
    "5 X 4 = 20\n",
    "5 X 5 = 25\n",
    "5 X 6 = 30\n",
    "5 X 7 = 35\n",
    "Obs: Você deve verificar se o usuário não digitou o final menor que o inicial."
   ]
  },
  {
   "cell_type": "code",
   "execution_count": 1,
   "metadata": {},
   "outputs": [
    {
     "name": "stdout",
     "output_type": "stream",
     "text": [
      "Hoje vamos calcular a tabuada do 5, da maneira que você escolher.\n",
      "O 5 multiplicado por 2 é igual: 10\n",
      "O 5 multiplicado por 3 é igual: 15\n",
      "O 5 multiplicado por 4 é igual: 20\n",
      "O 5 multiplicado por 5 é igual: 25\n",
      "Os dados estão corretos!\n"
     ]
    }
   ],
   "source": [
    "numero = int(input('Escolha um número: '))\n",
    "\n",
    "print(f'Hoje vamos calcular a tabuada do {numero}, da maneira que você escolher.')\n",
    "fator1 = int(input('Começa por: '))\n",
    "fator2 = int(input('Termina em: '))\n",
    "\n",
    "\n",
    "while fator1 < fator2:\n",
    "    resultado = numero * fator1\n",
    "    print(f'O {numero} multiplicado por {fator1} é igual: {resultado}')\n",
    "    fator1 += 1\n",
    "\n",
    "if fator1 <= fator2:\n",
    "     print('Os dados estão corretos!')\n",
    "else:\n",
    "    print('O número inicial deve ser menor que o final!')"
   ]
  },
  {
   "cell_type": "markdown",
   "metadata": {},
   "source": [
    "Um funcionário de uma empresa recebe aumento salarial anualmente: \n",
    "Sabe-se que:\n",
    "Esse funcionário foi contratado em 1995, com salário inicial de R$ 1.000,00;\n",
    "\n",
    "Em 1996 recebeu aumento de 1,5% sobre seu salário inicial;\n",
    "A partir de 1997 (inclusive), os aumentos salariais sempre correspondem ao dobro do percentual do ano anterior. \n",
    "Faça um programa que determine o salário atual desse funcionário. \n",
    "Após concluir isto, altere o programa permitindo que o usuário digite o salário inicial do funcionário."
   ]
  },
  {
   "cell_type": "code",
   "execution_count": 1,
   "metadata": {},
   "outputs": [
    {
     "name": "stdout",
     "output_type": "stream",
     "text": [
      "Salário no ano 1995: R$ 1015.00\n",
      "Salário no ano 1996: R$ 1045.00\n",
      "Salário no ano 1997: R$ 1105.00\n",
      "Salário no ano 1998: R$ 1225.00\n",
      "Salário no ano 1999: R$ 1345.00\n",
      "Salário no ano 2000: R$ 1465.00\n",
      "Salário no ano 2001: R$ 1585.00\n",
      "Salário no ano 2002: R$ 1705.00\n",
      "Salário no ano 2003: R$ 1825.00\n",
      "Salário no ano 2004: R$ 1945.00\n",
      "Salário no ano 2005: R$ 2065.00\n",
      "Salário no ano 2006: R$ 2185.00\n",
      "Salário no ano 2007: R$ 2305.00\n",
      "Salário no ano 2008: R$ 2425.00\n",
      "Salário no ano 2009: R$ 2545.00\n",
      "Salário no ano 2010: R$ 2665.00\n",
      "Salário no ano 2011: R$ 2785.00\n",
      "Salário no ano 2012: R$ 2905.00\n",
      "Salário no ano 2013: R$ 3025.00\n",
      "Salário no ano 2014: R$ 3145.00\n",
      "Salário no ano 2015: R$ 3265.00\n",
      "Salário no ano 2016: R$ 3385.00\n",
      "Salário no ano 2017: R$ 3505.00\n",
      "Salário no ano 2018: R$ 3625.00\n",
      "Salário no ano 2019: R$ 3745.00\n",
      "Salário no ano 2020: R$ 3865.00\n",
      "Salário no ano 2021: R$ 3985.00\n",
      "Salário no ano 2022: R$ 4105.00\n",
      "Salário no ano 2023: R$ 4225.00\n",
      "Salário no ano 2024: R$ 4345.00\n"
     ]
    }
   ],
   "source": [
    "ano_inicial = int(input('Digite o ano de contratação: '))\n",
    "ano_atual = int(input('Digite o ano atual: '))\n",
    "salario_inical = float(input('Digite o seu salário inicial: '))\n",
    "percentual = 0.015\n",
    "\n",
    "novo_salario = salario_inical \n",
    "\n",
    "for i in range(ano_inicial, ano_atual + 1):\n",
    "     novo_salario += salario_inical * percentual\n",
    "     if i <= 1997:\n",
    "          percentual *= 2\n",
    "     print(f'Salário no ano {i}: R$ {novo_salario:.2f}')"
   ]
  },
  {
   "cell_type": "markdown",
   "metadata": {},
   "source": [
    "#Faça um programa que calcule o fatorial de um número inteiro fornecido pelo usuário. \n",
    "# Ex.: 5!=5.4.3.2.1=120. \n",
    "# A saída deve ser conforme o exemplo abaixo:\n",
    "#Fatorial de: 5\n",
    "#5! =  5 . 4 . 3 . 2 . 1 = 120"
   ]
  },
  {
   "cell_type": "code",
   "execution_count": 2,
   "metadata": {},
   "outputs": [
    {
     "name": "stdout",
     "output_type": "stream",
     "text": [
      "5\n",
      "4\n",
      "3\n",
      "2\n",
      "1\n",
      "O fatorial desse número corresponde ao resultado da multiplicação dos números acima, que é 120.\n"
     ]
    }
   ],
   "source": [
    "n = int(input('Digite um número inteiro: '))  # Aqui entra o numero do fatorial\n",
    "numero = 1\n",
    "\n",
    "\n",
    "for n in range (n, 0, - 1):\n",
    "    print(n)\n",
    "    \n",
    "    numero *= n \n",
    "\n",
    "print(f'O fatorial desse número corresponde ao resultado da multiplicação dos números acima, que é {numero}.')"
   ]
  }
 ],
 "metadata": {
  "kernelspec": {
   "display_name": "Python 3",
   "language": "python",
   "name": "python3"
  },
  "language_info": {
   "codemirror_mode": {
    "name": "ipython",
    "version": 3
   },
   "file_extension": ".py",
   "mimetype": "text/x-python",
   "name": "python",
   "nbconvert_exporter": "python",
   "pygments_lexer": "ipython3",
   "version": "3.12.3"
  }
 },
 "nbformat": 4,
 "nbformat_minor": 2
}
