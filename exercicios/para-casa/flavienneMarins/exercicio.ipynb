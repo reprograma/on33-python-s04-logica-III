{
 "cells": [
  {
   "attachments": {},
   "cell_type": "markdown",
   "metadata": {},
   "source": [
    "Exercício 32: Faça um programa que calcule o fatorial de um número inteiro fornecido pelo usuário. Ex.: 5!=5.4.3.2.1=120."
   ]
  },
  {
   "cell_type": "code",
   "execution_count": 16,
   "metadata": {},
   "outputs": [
    {
     "name": "stdout",
     "output_type": "stream",
     "text": [
      "Fatorial de: 10\n",
      "10!=  10 .9 .8 .7 .6 .5 .4 .3 .2 .1 .= 3628800\n"
     ]
    }
   ],
   "source": [
    "num = int(input('Digite o número: '))\n",
    "\n",
    "fatorial = 1\n",
    "\n",
    "print(f'Fatorial de: {num}')\n",
    "print(f'{num}!= ', end= ' ')\n",
    "\n",
    "for i in range(num, 0, -1):\n",
    "    fatorial = fatorial * i\n",
    "    print(i, '.', end ='')\n",
    "\n",
    "print(f'= {fatorial}')"
   ]
  },
  {
   "attachments": {},
   "cell_type": "markdown",
   "metadata": {},
   "source": [
    "Exercício 36: Desenvolva um programa que faça a tabuada de um número qualquer inteiro que será digitado pelo usuário, mas a tabuada não deve necessariamente iniciar em 1 e terminar em 10, o valor inicial e final devem ser informados também pelo usuário, conforme exemplo abaixo:"
   ]
  },
  {
   "cell_type": "code",
   "execution_count": 20,
   "metadata": {},
   "outputs": [
    {
     "name": "stdout",
     "output_type": "stream",
     "text": [
      "Tabuada de 8:\n",
      "8 x 1 = 8\n",
      "8 x 2 = 16\n",
      "8 x 3 = 24\n",
      "8 x 4 = 32\n",
      "8 x 5 = 40\n",
      "8 x 6 = 48\n",
      "8 x 7 = 56\n",
      "8 x 8 = 64\n",
      "8 x 9 = 72\n",
      "8 x 10 = 80\n"
     ]
    }
   ],
   "source": [
    "numero = int(input('Digite um número para calcular a tabuada: '))\n",
    "\n",
    "print(f'Tabuada de {numero}:')\n",
    "\n",
    "for i in range(1, 11):\n",
    "    resultado = numero * i\n",
    "    print(f'{numero} x {i} = {resultado}')"
   ]
  },
  {
   "attachments": {},
   "cell_type": "markdown",
   "metadata": {},
   "source": [
    "Exercício 38: Um funcionário de uma empresa recebe aumento salarial anualmente: Sabe-se que:\n",
    "Esse funcionário foi contratado em 1995, com salário inicial de R$ 1.000,00;\n",
    "Em 1996 recebeu aumento de 1,5% sobre seu salário inicial;\n",
    "A partir de 1997 (inclusive), os aumentos salariais sempre correspondem ao dobro do percentual do ano anterior. Faça um programa que determine o salário atual desse funcionário. Após concluir isto, altere o programa permitindo que o usuário digite o salário inicial do funcionário."
   ]
  },
  {
   "cell_type": "code",
   "execution_count": 22,
   "metadata": {},
   "outputs": [
    {
     "name": "stdout",
     "output_type": "stream",
     "text": [
      "Salário em 1996: R$ 1015.00\n",
      "Salário em 1997: R$ 1045.45\n",
      "Salário em 1998: R$ 1108.18\n",
      "Salário em 1999: R$ 1241.16\n",
      "Salário em 2000: R$ 1539.04\n",
      "Salário em 2001: R$ 2277.77\n",
      "Salário em 2002: R$ 4464.44\n",
      "Salário em 2003: R$ 13036.15\n",
      "Salário em 2004: R$ 63094.98\n",
      "Salário em 2005: R$ 547664.47\n",
      "Salário em 2006: R$ 8959790.69\n",
      "Salário em 2007: R$ 284204560.82\n",
      "Salário em 2008: R$ 17745732777.31\n",
      "Salário em 2009: R$ 2198341376453.00\n",
      "Salário em 2010: R$ 542462718053542.06\n",
      "Salário em 2011: R$ 267173737895730528.00\n",
      "Salário em 2012: R$ 262909645038914666496.00\n",
      "Salário em 2013: R$ 517164304563148244910080.00\n",
      "Salário em 2014: R$ 2034089956135592080204365824.00\n",
      "Salário em 2015: R$ 15998768413792394281488683630592.00\n",
      "Salário em 2016: R$ 251654867592325396987276632919113728.00\n",
      "Salário em 2017: R$ 7916629288082298418272104051247446753280.00\n",
      "Salário em 2018: R$ 498079164972099073044506102424224350991286272.00\n",
      "Salário em 2019: R$ 62673361097939015974588452007553794415875760062464.00\n",
      "Salário em 2020: R$ 15772330422152896713036863368953619989314421505159856128.00\n",
      "Salário em 2021: R$ 7938489601805331786892694208203085057144886545662928308142080.00\n",
      "Salário em 2022: R$ 7991153224284124308525120353457584705599324422584199349980608069632.00\n",
      "Salário em 2023: R$ 16088324439102569013333895264764169083775204134662300197261040409336872960.00\n",
      "Salário em 2024: R$ 64780166694621071389588518512457699362489192028238654588493204328624246784786432.00\n"
     ]
    }
   ],
   "source": [
    "salario_inicial = 1000.0\n",
    "\n",
    "aumento_percentual = 1.5 / 100\n",
    "\n",
    "salario_1996 = salario_inicial * (1 + aumento_percentual)\n",
    "print(f\"Salário em 1996: R$ {salario_1996:.2f}\")\n",
    "\n",
    "ano_atual = 1997\n",
    "salario_atual = salario_1996  \n",
    "\n",
    "while ano_atual <= 2024:\n",
    "    aumento_percentual *= 2  \n",
    "    salario_atual *= (1 + aumento_percentual)  \n",
    "    print(f\"Salário em {ano_atual}: R$ {salario_atual:.2f}\")\n",
    "    ano_atual += 1"
   ]
  },
  {
   "attachments": {},
   "cell_type": "markdown",
   "metadata": {},
   "source": [
    "Alteração do programa permitindo que o usuário digite o salário inicial do funcionário."
   ]
  },
  {
   "cell_type": "code",
   "execution_count": 25,
   "metadata": {},
   "outputs": [
    {
     "name": "stdout",
     "output_type": "stream",
     "text": [
      "Salário em 1996: R$ 507.50\n",
      "Salário em 1997: R$ 522.72\n",
      "Salário em 1998: R$ 554.09\n",
      "Salário em 1999: R$ 620.58\n",
      "Salário em 2000: R$ 769.52\n",
      "Salário em 2001: R$ 1138.89\n",
      "Salário em 2002: R$ 2232.22\n",
      "Salário em 2003: R$ 6518.08\n",
      "Salário em 2004: R$ 31547.49\n",
      "Salário em 2005: R$ 273832.23\n",
      "Salário em 2006: R$ 4479895.35\n",
      "Salário em 2007: R$ 142102280.41\n",
      "Salário em 2008: R$ 8872866388.65\n",
      "Salário em 2009: R$ 1099170688226.50\n",
      "Salário em 2010: R$ 271231359026771.03\n",
      "Salário em 2011: R$ 133586868947865264.00\n",
      "Salário em 2012: R$ 131454822519457333248.00\n",
      "Salário em 2013: R$ 258582152281574122455040.00\n",
      "Salário em 2014: R$ 1017044978067796040102182912.00\n",
      "Salário em 2015: R$ 7999384206896197140744341815296.00\n",
      "Salário em 2016: R$ 125827433796162698493638316459556864.00\n",
      "Salário em 2017: R$ 3958314644041149209136052025623723376640.00\n",
      "Salário em 2018: R$ 249039582486049536522253051212112175495643136.00\n",
      "Salário em 2019: R$ 31336680548969507987294226003776897207937880031232.00\n",
      "Salário em 2020: R$ 7886165211076448356518431684476809994657210752579928064.00\n",
      "Salário em 2021: R$ 3969244800902665893446347104101542528572443272831464154071040.00\n",
      "Salário em 2022: R$ 3995576612142062154262560176728792352799662211292099674990304034816.00\n",
      "Salário em 2023: R$ 8044162219551284506666947632382084541887602067331150098630520204668436480.00\n",
      "Salário em 2024: R$ 32390083347310535694794259256228849681244596014119327294246602164312123392393216.00\n"
     ]
    }
   ],
   "source": [
    "salario_inicial = float(input(\"Digite o salário inicial do funcionário: \"))\n",
    "\n",
    "aumento_percentual = 1.5 / 100\n",
    "\n",
    "salario_1996 = salario_inicial * (1 + aumento_percentual)\n",
    "\n",
    "print(f\"Salário em 1996: R$ {salario_1996:.2f}\")\n",
    "\n",
    "ano_atual = 1997\n",
    "salario_atual = salario_1996  \n",
    "\n",
    "while ano_atual <= 2024:\n",
    "    aumento_percentual *= 2  \n",
    "    salario_atual *= (1 + aumento_percentual)  \n",
    "    print(f\"Salário em {ano_atual}: R$ {salario_atual:.2f}\")\n",
    "    ano_atual += 1"
   ]
  }
 ],
 "metadata": {
  "kernelspec": {
   "display_name": "Python 3",
   "language": "python",
   "name": "python3"
  },
  "language_info": {
   "codemirror_mode": {
    "name": "ipython",
    "version": 3
   },
   "file_extension": ".py",
   "mimetype": "text/x-python",
   "name": "python",
   "nbconvert_exporter": "python",
   "pygments_lexer": "ipython3",
   "version": "3.12.4"
  },
  "orig_nbformat": 4
 },
 "nbformat": 4,
 "nbformat_minor": 2
}
