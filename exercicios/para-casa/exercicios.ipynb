{
 "cells": [
  {
   "cell_type": "markdown",
   "metadata": {},
   "source": [
    "Exercícios de Estrutura de Repetição\n",
    "- [Exercício 36] -\n",
    "\n",
    "Desenvolva um programa que faça a tabuada de um número qualquer inteiro que será digitado pelo usuário, mas a tabuada não deve necessariamente iniciar em 1 e terminar em 10, o valor inicial e final devem ser informados também pelo usuário, conforme exemplo abaixo:\n",
    "Montar a tabuada de: 5\n",
    "Começar por: 4\n",
    "Terminar em: 7\n",
    "\n",
    "Vou montar a tabuada de 5 começando em 4 e terminando em 7:\n",
    "5 X 4 = 20\n",
    "5 X 5 = 25\n",
    "5 X 6 = 30\n",
    "5 X 7 = 35\n",
    "Obs: Você deve verificar se o usuário não digitou o final menor que o inicial."
   ]
  },
  {
   "cell_type": "code",
   "execution_count": null,
   "metadata": {},
   "outputs": [],
   "source": [
    "while True:\n",
    "  numero = int(input(\"Montar a tabuada de: \"))\n",
    "  inicio = int(input(\"Começar por: \"))\n",
    "  fim = int(input(\"Terminar em: \"))\n",
    "\n",
    "  if inicio > fim:\n",
    "    print(\"Entrada inválida, o número inicial não pode ser maior que o final.\")\n",
    "  else:\n",
    "    print(f\"\\nMontar a tabuada de {numero} começando em {inicio} e terminando em {fim}:\\n  \")\n",
    "\n",
    "    for i in range(inicio, fim + 1):\n",
    "      resultado = numero * i\n",
    "      print(f\"{numero} x {i} = {resultado}\")\n",
    "    break\n",
    "\n",
    "\n"
   ]
  },
  {
   "cell_type": "markdown",
   "metadata": {},
   "source": [
    "38) Um funcionário de uma empresa recebe aumento salarial anualmente: Sabe-se que:\n",
    "Esse funcionário foi contratado em 1995, com salário inicial de R$ 1.000,00;\n",
    "Em 1996 recebeu aumento de 1,5% sobre seu salário inicial;\n",
    "A partir de 1997 (inclusive), os aumentos salariais sempre correspondem ao dobro do percentual do ano anterior. Faça um programa que determine o salário atual desse funcionário. Após concluir isto, altere o programa permitindo que o usuário digite o salário inicial do funcionário."
   ]
  },
  {
   "cell_type": "code",
   "execution_count": 28,
   "metadata": {},
   "outputs": [
    {
     "name": "stdout",
     "output_type": "stream",
     "text": [
      "Salário em 1995: R$ 1000.00\n",
      "Salário em 1996: R$ 1015.00\n",
      "Salário em 1997: R$ 1045.45\n",
      "Salário em 1998: R$ 1108.18\n",
      "Salário em 1999: R$ 1241.16\n",
      "Salário em 2000: R$ 1539.04\n",
      "Salário em 2001: R$ 2277.77\n",
      "Salário em 2002: R$ 4464.44\n",
      "Salário em 2003: R$ 13036.15\n",
      "Salário em 2004: R$ 63094.98\n",
      "Salário em 2005: R$ 547664.47\n",
      "Salário em 2006: R$ 8959790.69\n",
      "Salário em 2007: R$ 284204560.82\n",
      "Salário em 2008: R$ 17745732777.31\n",
      "Salário em 2009: R$ 2198341376453.00\n",
      "Salário em 2010: R$ 542462718053542.06\n",
      "Salário em 2011: R$ 267173737895730528.00\n",
      "Salário em 2012: R$ 262909645038914666496.00\n",
      "Salário em 2013: R$ 517164304563148244910080.00\n",
      "Salário em 2014: R$ 2034089956135592080204365824.00\n",
      "Salário em 2015: R$ 15998768413792394281488683630592.00\n",
      "Salário em 2016: R$ 251654867592325396987276632919113728.00\n",
      "Salário em 2017: R$ 7916629288082298418272104051247446753280.00\n",
      "Salário em 2018: R$ 498079164972099073044506102424224350991286272.00\n",
      "Salário em 2019: R$ 62673361097939015974588452007553794415875760062464.00\n",
      "Salário em 2020: R$ 15772330422152896713036863368953619989314421505159856128.00\n",
      "Salário em 2021: R$ 7938489601805331786892694208203085057144886545662928308142080.00\n",
      "Salário em 2022: R$ 7991153224284124308525120353457584705599324422584199349980608069632.00\n",
      "Salário em 2023: R$ 16088324439102569013333895264764169083775204134662300197261040409336872960.00\n",
      "O salário atual do funcionário é de R$ 16088324439102569013333895264764169083775204134662300197261040409336872960.00\n"
     ]
    }
   ],
   "source": [
    "salario_inicial = float(input(\"Digite o salário inicial do funcionário: \"))\n",
    "ano_inicial = 1995\n",
    "ano_atual = int(input(\"Digite o ano atual: \"))\n",
    "percentual_aumento = 0.015\n",
    "\n",
    "for ano in range(ano_inicial, ano_atual):\n",
    "    if ano == 1995:\n",
    "        salario_atual = salario_inicial\n",
    "    elif ano == 1996:\n",
    "        salario_atual = salario_inicial * (1 + percentual_aumento)\n",
    "    else:\n",
    "        percentual_aumento *= 2\n",
    "        salario_atual = salario_atual * (1 + percentual_aumento)\n",
    "    print(f\"Salário em {ano}: R$ {salario_atual:.2f}\")\n",
    "    ano += 1\n",
    "\n",
    "print(f\"O salário atual do funcionário é de R$ {salario_atual:.2f}\")\n"
   ]
  },
  {
   "cell_type": "markdown",
   "metadata": {},
   "source": [
    "32) Faça um programa que calcule o fatorial de um número inteiro fornecido pelo usuário. Ex.: 5!=5.4.3.2.1=120. A saída deve ser conforme o exemplo abaixo:\n",
    "Fatorial de: 5\n",
    "5! =  5 . 4 . 3 . 2 . 1 = 120"
   ]
  },
  {
   "cell_type": "code",
   "execution_count": 27,
   "metadata": {},
   "outputs": [
    {
     "name": "stdout",
     "output_type": "stream",
     "text": [
      "Fatorial de 3:\n",
      "3! = 3 . 2 . 1 = 6\n"
     ]
    }
   ],
   "source": [
    "numero = int(input(\"Fatorial de: \"))\n",
    "fatorial = 1\n",
    "ponto = \"\"\n",
    "\n",
    "for i in range(numero, 0, -1):\n",
    "    fatorial *= i\n",
    "    ponto += str(i)\n",
    "    if i > 1:\n",
    "        ponto += \" . \"\n",
    "\n",
    "print(f\"Fatorial de {numero}:\\n{numero}! = {ponto} = {fatorial}\")\n",
    "\n"
   ]
  }
 ],
 "metadata": {
  "kernelspec": {
   "display_name": "Python 3",
   "language": "python",
   "name": "python3"
  },
  "language_info": {
   "codemirror_mode": {
    "name": "ipython",
    "version": 3
   },
   "file_extension": ".py",
   "mimetype": "text/x-python",
   "name": "python",
   "nbconvert_exporter": "python",
   "pygments_lexer": "ipython3",
   "version": "3.11.5"
  }
 },
 "nbformat": 4,
 "nbformat_minor": 2
}
