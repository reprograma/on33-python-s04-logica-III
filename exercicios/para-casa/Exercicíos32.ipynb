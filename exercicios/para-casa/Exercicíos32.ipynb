{
 "cells": [
  {
   "cell_type": "markdown",
   "metadata": {},
   "source": [
    "# Faça um programa que calcule o fatorial de um número inteiro fornecido pelo usuário."
   ]
  },
  {
   "cell_type": "code",
   "execution_count": 1,
   "metadata": {},
   "outputs": [
    {
     "name": "stdout",
     "output_type": "stream",
     "text": [
      "5! = 5 . 4 . 3 . 2 . 1 = 120\n"
     ]
    }
   ],
   "source": [
    "def main():\n",
    "    \n",
    "    numero = int(input(\"Fatorial de: \"))\n",
    "    \n",
    "    if numero < 0:\n",
    "        print(\"Não é possível calcular o fatorial de um número negativo.\")\n",
    "        return\n",
    "    \n",
    "    fatorial = 1\n",
    "    sequencia = \"\"\n",
    "    \n",
    "    for i in range(numero, 0, -1):\n",
    "        fatorial *= i\n",
    "        if sequencia == \"\":\n",
    "            sequencia = str(i)\n",
    "        else:\n",
    "            sequencia += f\" . {i}\"\n",
    "    \n",
    "    print(f\"{numero}! = {sequencia} = {fatorial}\")\n",
    "\n",
    "if __name__ == \"__main__\":\n",
    "    main()"
   ]
  }
 ],
 "metadata": {
  "kernelspec": {
   "display_name": "Python 3",
   "language": "python",
   "name": "python3"
  },
  "language_info": {
   "codemirror_mode": {
    "name": "ipython",
    "version": 3
   },
   "file_extension": ".py",
   "mimetype": "text/x-python",
   "name": "python",
   "nbconvert_exporter": "python",
   "pygments_lexer": "ipython3",
   "version": "3.12.3"
  }
 },
 "nbformat": 4,
 "nbformat_minor": 2
}
