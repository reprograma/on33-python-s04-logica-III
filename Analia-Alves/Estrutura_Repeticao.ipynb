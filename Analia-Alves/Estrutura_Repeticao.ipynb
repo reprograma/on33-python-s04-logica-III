{
 "cells": [
  {
   "cell_type": "markdown",
   "metadata": {},
   "source": [
    "### Questao 1: \n",
    "Desenvolva um programa que faça a tabuada de um número qualquer inteiro que será digitado pelo usuário, mas a tabuada não deve necessariamente iniciar em 1 e terminar em 10, o valor inicial e final devem ser informados também pelo usuário"
   ]
  },
  {
   "cell_type": "markdown",
   "metadata": {},
   "source": [
    "Montar a tabuada de: 5\n",
    "\n",
    "Começar por: 4\n",
    "\n",
    "Terminar em: 7\n",
    "\n",
    "Vou montar a tabuada de 5 começando em 4 e terminando em 7:\n",
    "\n",
    "5 X 4 = 20\n",
    "\n",
    "5 X 5 = 25\n",
    "\n",
    "5 X 6 = 30\n",
    "\n",
    "5 X 7 = 35"
   ]
  },
  {
   "cell_type": "code",
   "execution_count": 1,
   "metadata": {},
   "outputs": [
    {
     "name": "stdout",
     "output_type": "stream",
     "text": [
      "Ola Bem-Vinda\n",
      "Tabuada de 5 de 0 até 10:\n",
      "5 x 0 = 0\n",
      "5 x 1 = 5\n",
      "5 x 2 = 10\n",
      "5 x 3 = 15\n",
      "5 x 4 = 20\n",
      "5 x 5 = 25\n",
      "5 x 6 = 30\n",
      "5 x 7 = 35\n",
      "5 x 8 = 40\n",
      "5 x 9 = 45\n",
      "5 x 10 = 50\n"
     ]
    }
   ],
   "source": [
    "print(\"Ola Bem-Vinda\")\n",
    "\n",
    "def tabuada():\n",
    "    numero = int(input(\"Digite o número para o qual deseja calcular a tabuada: \"))\n",
    "    num1 = int(input(\"Digite o valor do inicio: \"))\n",
    "    num2 = int(input(\"Digite o valor do final: \"))\n",
    "\n",
    "    if num1 > num2:\n",
    "        print(\"O valor inicial deve ser menor ou igual ao valor final.\")\n",
    "        return\n",
    "\n",
    "    print(f\"Tabuada de {numero} de {num1} até {num2}:\")\n",
    "    for i in range(num1, num2 + 1):\n",
    "        print(f\"{numero} x {i} = {numero * i}\")\n",
    "        \n",
    "tabuada()\n",
    "\n",
    "\n"
   ]
  },
  {
   "cell_type": "markdown",
   "metadata": {},
   "source": [
    "### Questão 2\n",
    "Um funcionário de uma empresa recebe aumento salarial anualmente: Sabe-se que:\n",
    "\n",
    "a) Esse funcionário foi contratado em 1995, com salário inicial de R$ 1.000,00;\n",
    "\n",
    "b) Em 1996 recebeu aumento de 1,5% sobre seu salário inicial;\n",
    "\n",
    "c) A partir de 1997 (inclusive), os aumentos salariais sempre correspondem ao dobro do percentual do ano anterior. Faça um programa que determine o salário atual desse funcionário. \n",
    "\n",
    "Após concluir isto, altere o programa permitindo que o usuário digite o salário inicial do funcionário."
   ]
  },
  {
   "cell_type": "code",
   "execution_count": 2,
   "metadata": {},
   "outputs": [
    {
     "name": "stdout",
     "output_type": "stream",
     "text": [
      "Olá!\n",
      "O salário do funcionário atualmente é: R$ 64780166694621097717661435651754373841996112945846734312267054465902060362530816.00\n"
     ]
    }
   ],
   "source": [
    "print(\"Olá!\")\n",
    "\n",
    "def calcular_salario_atual(ano_inicio, s_inicial):\n",
    "    salario = s_inicial\n",
    "    aumento = 1.5 / 100 \n",
    "    ano_atual = 2024\n",
    "\n",
    "    salario += salario * aumento\n",
    "\n",
    "    for ano in range(1997, ano_atual + 1):\n",
    "        aumento *= 2  # o aumento dobra a cada ano\n",
    "        salario += salario * aumento\n",
    "\n",
    "    return salario\n",
    "\n",
    "contratacao = 1995\n",
    "\n",
    "s_inicial = float(input(\"Digite o salário inicial do funcionário: \"))\n",
    "\n",
    "s_atual = calcular_salario_atual(contratacao, s_inicial)\n",
    "print(f\"O salário do funcionário atualmente é: R$ {s_atual:.2f}\")"
   ]
  },
  {
   "cell_type": "markdown",
   "metadata": {},
   "source": [
    "### Faça um programa que calcule o fatorial de um número inteiro fornecido pelo usuário. Ex.: 5!=5.4.3.2.1=120. A saída deve ser conforme o exemplo abaixo:"
   ]
  },
  {
   "cell_type": "markdown",
   "metadata": {},
   "source": [
    "Fatorial de: 5\n",
    "5! =  5 . 4 . 3 . 2 . 1 = 120"
   ]
  },
  {
   "cell_type": "code",
   "execution_count": 4,
   "metadata": {},
   "outputs": [
    {
     "name": "stdout",
     "output_type": "stream",
     "text": [
      "Olá! vamos calcular!\n",
      "8! = 8.7.6.5.4.3.2.1 = 40320\n"
     ]
    }
   ],
   "source": [
    "print(\"Olá! vamos calcular!\")\n",
    "\n",
    "def calcular_fatorial():\n",
    "    fator = int(input(\"Digite um número para calcular: \"))\n",
    "\n",
    "    fatorial = 1\n",
    "    fatores = []\n",
    "\n",
    "    for i in range(fator, 0, -1):\n",
    "        fatorial *= i\n",
    "        fatores.append(str(i))\n",
    "\n",
    "    fatorial_str = f\"{fator}! = {'.'.join(fatores)} = {fatorial}\"\n",
    "    print(fatorial_str)\n",
    "\n",
    "# Executa a função\n",
    "calcular_fatorial()\n"
   ]
  }
 ],
 "metadata": {
  "kernelspec": {
   "display_name": "Python 3",
   "language": "python",
   "name": "python3"
  },
  "language_info": {
   "codemirror_mode": {
    "name": "ipython",
    "version": 3
   },
   "file_extension": ".py",
   "mimetype": "text/x-python",
   "name": "python",
   "nbconvert_exporter": "python",
   "pygments_lexer": "ipython3",
   "version": "3.12.4"
  }
 },
 "nbformat": 4,
 "nbformat_minor": 2
}
