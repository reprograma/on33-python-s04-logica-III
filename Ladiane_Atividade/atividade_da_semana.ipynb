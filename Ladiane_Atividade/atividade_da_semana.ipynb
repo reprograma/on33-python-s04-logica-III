{
 "cells": [
  {
   "cell_type": "markdown",
   "metadata": {},
   "source": [
    "Atividade 1\n",
    "Faça um programa que calcule o fatorial de um número inteiro fornecido pelo usuário. Ex.: 5!=5.4.3.2.1=120. A saída deve ser conforme o exemplo abaixo:\n",
    "Fatorial de: 5\n",
    "5! =  5 . 4 . 3 . 2 . 1 = 120"
   ]
  },
  {
   "cell_type": "code",
   "execution_count": 20,
   "metadata": {},
   "outputs": [
    {
     "name": "stdout",
     "output_type": "stream",
     "text": [
      "O fatorial de: 5\n",
      "5 != 1 .2 .3 .4 .5 = 120\n"
     ]
    }
   ],
   "source": [
    "def fatorial (numero): # define uma função chamada fatorial que recebe um argumento numero.\n",
    "\n",
    "    resultado = 1   # Inicializa a variável resultado com 1. Essa variável será usada para armazenar o resultado do cálculo do fatorial.\n",
    "    passos_str = \"\" #Inicializa a variável passos_str como uma string vazia. Essa variável será usada para armazenar os passos do cálculo do fatorial na forma de uma string formatada\n",
    "    for i in range(1, numero + 1): # loop for para calcula o fatorial\n",
    "        resultado *= i  #Multiplica resultado pelo valor atual de i. Isso atualiza resultado a cada iteração para calcular o fatorial.\n",
    "        if i == 1:    #Verifica se i é igual a 1 (primeira iteração)\n",
    "            passos_str += str(1)  #Se i é 1, apenas converte i para string e adiciona a passos_str.\n",
    "        else:                          #Se i não é 1 (ou seja, para valores maiores que 1)\n",
    "            passos_str += f\" .{i}\"    #passos_str += f\" . {i}\": Concatena à passos_str uma string formatada que contém o valor de i, precedido por \" . \". Isso forma a representação dos passos do cálculo do fatorial.\n",
    "    return resultado, passos_str      #Retorna duas coisas\n",
    "                                      #resultado: O resultado final do cálculo do fatorial.\n",
    "                                      # passos_str: Uma string que contém a representação dos passos do cálculo do fatorial.\n",
    "\n",
    "numero = int(input(\"Digite um número inteiro: \"))\n",
    "resultado_fatorial, passos_fatorial = fatorial(numero) #Esta expressão chama a função fatorial com o valor de numero fornecido pelo usuário como argumento.\n",
    "\n",
    "print(f\"O fatorial de: {numero}\")    \n",
    "print(f\"{numero} != {passos_fatorial} = {resultado_fatorial}\")\n"
   ]
  },
  {
   "cell_type": "markdown",
   "metadata": {},
   "source": [
    "Atividade 2\n",
    "Desenvolva um programa que faça a tabuada de um número qualquer inteiro que será digitado pelo usuário, mas a tabuada não deve necessariamente iniciar em 1 e terminar em 10, o valor inicial e final devem ser informados também pelo usuário, conforme exemplo abaixo:\n",
    "Montar a tabuada de: 5\n",
    "Começar por: 4\n",
    "Terminar em: 7\n",
    "\n",
    "Vou montar a tabuada de 5 começando em 4 e terminando em 7:\n",
    "5 X 4 = 20\n",
    "5 X 5 = 25\n",
    "5 X 6 = 30\n",
    "5 X 7 = 35\n",
    "Obs: Você deve verificar se o usuário não digitou o final menor que o inicial."
   ]
  },
  {
   "cell_type": "code",
   "execution_count": 22,
   "metadata": {},
   "outputs": [
    {
     "name": "stdout",
     "output_type": "stream",
     "text": [
      "Vou montar a tabuada de 7 começando em 5 e terminando em 9:\n",
      "7 x 5 = 35\n",
      "7 x 6 = 42\n",
      "7 x 7 = 49\n",
      "7 x 8 = 56\n",
      "7 x 9 = 63\n"
     ]
    }
   ],
   "source": [
    "def montar_tabuada(numero, inicio, fim): #Definição da função\n",
    "    if fim < inicio:  # Verificação do intervalo\n",
    "        print(\"Erro: O valor final não pode ser menor que o valor inicial.\")\n",
    "    else:\n",
    "        print(f\"Vou montar a tabuada de {numero} começando em {inicio} e terminando em {fim}:\")\n",
    "        for i in range(inicio, fim + 1): #Loop for para montar a tabuada\n",
    "            resultado = numero * i\n",
    "            print(f\"{numero} x {i} = {resultado}\") #Cálculo e impressão de cada linha da tabuada\n",
    "\n",
    "# Solicitação de entrada de dados pelo usuário\n",
    "numero = int(input(\"Digite um número para montar a tabuada: \"))\n",
    "inicio = int(input(\"Começar por: \"))\n",
    "fim = int(input(\"Terminar em: \"))\n",
    "\n",
    "# Chamada da função para montar a tabuada\n",
    "montar_tabuada(numero, inicio, fim)\n",
    "\n",
    "\n",
    "\n",
    "# def: Define uma função chamada montar_tabuada.\n",
    "# numero, inicio, fim: São os parâmetros da função, onde numero é o número para o qual a tabuada será montada, inicio é o valor inicial do intervalo e fim é o valor final do intervalo.\n",
    "# for i in range(inicio, fim + 1): Inicia um loop for que itera sobre uma sequência de números começando de inicio até fim, incluindo fim.\n",
    "# i é a variável de iteração que assume cada valor dentro do intervalo especificado pelo range\n",
    "\n",
    "# i é uma variável de controle do loop for. Em cada iteração do loop, i assume um valor sequencial dentro do intervalo definido por range(inicio, fim + 1). No contexto da tabuada, \n",
    "# i representa o multiplicador que varia de inicio até fim, permitindo assim que cada linha da tabuada seja calculada e impressa.\n",
    "# inicio: É o primeiro número do intervalo.\n",
    "# fim + 1: Indica o número imediatamente após fim no intervalo.\n",
    "# Explicação detalhada:\n",
    "# Quando você utiliza range(inicio, fim + 1), o Python gera uma sequência de números que começa em inicio e vai até fim. No entanto, o fim + 1 é exclusivo, ou seja, \n",
    "# o último número gerado será fim. Isso significa que o intervalo inclui todos os números de inicio até fim, inclusive fim.\n",
    "\n",
    "# Por exemplo:\n",
    "\n",
    "# Se inicio = 4 e fim = 7, então range(4, 7 + 1) gera os números 4, 5, 6, 7.\n",
    "# A adição do + 1 assegura que o número fim esteja incluso no intervalo gerado pela função range.\n",
    "# Essa é uma convenção comum em Python e muitas outras linguagens de programação para especificar um intervalo inclusivo."
   ]
  },
  {
   "cell_type": "markdown",
   "metadata": {},
   "source": [
    "Ativiade 3 \n",
    "Um funcionário de uma empresa recebe aumento salarial anualmente: Sabe-se que:\n",
    "Esse funcionário foi contratado em 1995, com salário inicial de R$ 1.000,00;\n",
    "Em 1996 recebeu aumento de 1,5% sobre seu salário inicial;\n",
    "A partir de 1997 (inclusive), os aumentos salariais sempre correspondem ao dobro do percentual do ano anterior. \n",
    "Faça um programa que determine o salário atual desse funcionário. Após concluir isto, altere o programa permitindo que o usuário digite o salário inicial do funcionário."
   ]
  },
  {
   "cell_type": "code",
   "execution_count": 69,
   "metadata": {},
   "outputs": [
    {
     "name": "stdout",
     "output_type": "stream",
     "text": [
      "Salário atual do funcionário em 2024: R$ 64780166694621071389588518512457699362489192028238654588493204328624246784786432.00\n"
     ]
    }
   ],
   "source": [
    "def calcular_salario_atual(salario_inicial, ano_inicio, ano_fim):\n",
    "    # Calcula o salário inicial com um aumento de 1.5% em 1996\n",
    "    salario_atual = salario_inicial * 1.015  # Salário inicial em 1996 após 1.5% de aumento\n",
    "    porcentagem = 0.03  # Define a porcentagem de aumento para 1997 (o dobro de 1.5%)\n",
    "\n",
    "    # Loop para calcular o salário para cada ano até ano_fim\n",
    "    for ano in range(ano_inicio + 1, ano_fim + 1):  # Itera do ano de 1997 até ano_fim (inclusivo)\n",
    "        salario_atual *= (1 + porcentagem)  # Aplica o aumento percentual ao salário atual\n",
    "        porcentagem *= 2  # Dobra a porcentagem de aumento para o próximo ano\n",
    "\n",
    "    return salario_atual  # Retorna o salário calculado até ano_fim\n",
    "\n",
    "# Define o salário inicial do funcionário\n",
    "salario_inicial = 1000.00  # Salário inicial em 1995\n",
    "\n",
    "# Chama a função para calcular o salário atual até o ano 2024\n",
    "salario_atual = calcular_salario_atual(salario_inicial, 1996, 2024)\n",
    "\n",
    "# Imprime o salário atual do funcionário em 2024\n",
    "print(f\"Salário atual do funcionário em 2024: R$ {salario_atual:.2f}\")"
   ]
  },
  {
   "cell_type": "code",
   "execution_count": 67,
   "metadata": {},
   "outputs": [
    {
     "name": "stdout",
     "output_type": "stream",
     "text": [
      "Salário atual do funcionário em 2024: R$ 64780166694621071389588518512457699362489192028238654588493204328624246784786432.00\n"
     ]
    }
   ],
   "source": [
    "def calcular_salario_atual(salario_inicial, ano_inicio, ano_fim):\n",
    "    salario_atual = salario_inicial * 1.015  # Aumento inicial de 1.5% em 1996\n",
    "    porcentagem = 0.03  # Dobro de 1.5% para 1997\n",
    "\n",
    "    for ano in range(ano_inicio + 1, ano_fim + 1):\n",
    "        salario_atual *= (1 + porcentagem)\n",
    "        porcentagem *= 2  # Dobrar o percentual a cada ano\n",
    "\n",
    "    return salario_atual\n",
    "\n",
    "# Solicita o salário inicial do funcionário\n",
    "salario_inicial = float(input('Digite o salário inicial do funcionário: '))\n",
    "\n",
    "# Chama a função para calcular o salário atual\n",
    "salario_atual = calcular_salario_atual(salario_inicial, 1996, 2024)\n",
    "\n",
    "# Imprime o salário atual do funcionário\n",
    "print(f\"Salário atual do funcionário em 2024: R$ {salario_atual:.2f}\")"
   ]
  }
 ],
 "metadata": {
  "kernelspec": {
   "display_name": "Python 3",
   "language": "python",
   "name": "python3"
  },
  "language_info": {
   "codemirror_mode": {
    "name": "ipython",
    "version": 3
   },
   "file_extension": ".py",
   "mimetype": "text/x-python",
   "name": "python",
   "nbconvert_exporter": "python",
   "pygments_lexer": "ipython3",
   "version": "3.12.3"
  }
 },
 "nbformat": 4,
 "nbformat_minor": 2
}
