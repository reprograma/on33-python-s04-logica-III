{
 "cells": [
  {
   "cell_type": "markdown",
   "metadata": {},
   "source": [
    "Exercício de Casa para entrega (Lógica III)"
   ]
  },
  {
   "cell_type": "markdown",
   "metadata": {},
   "source": [
    "Desenvolva um programa que faça a tabuada de um número qualquer inteiro que será digitado pelo usuário, mas a tabuada não deve necessariamente iniciar em 1 e terminar em 10, o valor inicial e final devem ser informados também pelo usuário, conforme exemplo abaixo:\n",
    "Montar a tabuada de: 5\n",
    "Começar por: 4\n",
    "Terminar em: 7\n",
    "\n",
    "Vou montar a tabuada de 5 começando em 4 e terminando em 7:\n",
    "5 X 4 = 20\n",
    "5 X 5 = 25\n",
    "5 X 6 = 30\n",
    "5 X 7 = 35\n",
    "Obs: Você deve verificar se o usuário não digitou o final menor que o inicial."
   ]
  },
  {
   "cell_type": "code",
   "execution_count": 44,
   "metadata": {},
   "outputs": [
    {
     "name": "stdout",
     "output_type": "stream",
     "text": [
      "10 x 5 = 50\n",
      "10 x 6 = 60\n",
      "10 x 7 = 70\n",
      "10 x 8 = 80\n",
      "10 x 9 = 90\n",
      "10 x 10 = 100\n",
      "Prontinho!\n"
     ]
    }
   ],
   "source": [
    "numero = int(input(\"Digite um número que você queira multiplicar:\"))\n",
    "contador = int(input(\"Por qual outro numero você quer multiplicá-lo?\"))\n",
    "final = int(input(\"Até onde você quer que vá essa multiplicação?\"))\n",
    "\n",
    "while contador <= final:\n",
    "    resultado = numero * contador\n",
    "    print(f\"{numero} x {contador} = {resultado}\")\n",
    "    contador += 1\n",
    "    \n",
    "print(\"Prontinho!\")"
   ]
  },
  {
   "cell_type": "markdown",
   "metadata": {},
   "source": [
    "Um funcionário de uma empresa recebe aumento salarial anualmente: Sabe-se que:\n",
    "Esse funcionário foi contratado em 1995, com salário inicial de R$ 1.000,00;\n",
    "Em 1996 recebeu aumento de 1,5% sobre seu salário inicial;\n",
    "A partir de 1997 (inclusive), os aumentos salariais sempre correspondem ao dobro do percentual do ano anterior. Faça um programa que determine o salário atual desse funcionário. Após concluir isto, altere o programa permitindo que o usuário digite o salário inicial do funcionário."
   ]
  },
  {
   "cell_type": "code",
   "execution_count": 1,
   "metadata": {},
   "outputs": [
    {
     "name": "stdout",
     "output_type": "stream",
     "text": [
      "Salário no ano de 2024: R$ 23631.74\n"
     ]
    }
   ],
   "source": [
    "#Programa para saber o salario atual do funcionário\n",
    "\n",
    "ano_inicio = 1995\n",
    "ano_atual = int(input(\"Digite o ano de pesquisa: \")) \n",
    "salario_inicial = 1000.00\n",
    "percentual_de_aumento = 0.015 \n",
    "\n",
    "salario = salario_inicial   \n",
    "\n",
    "for i in range(ano_inicio, ano_atual + 1):  \n",
    "      salario += salario * percentual_de_aumento \n",
    "      if i <= 1997:                                \n",
    "        percentual_de_aumento *= 2\n",
    "\n",
    "print(f\"Salário no ano de {ano_atual}: R$ {salario:.2f}\")"
   ]
  },
  {
   "cell_type": "code",
   "execution_count": 17,
   "metadata": {},
   "outputs": [
    {
     "name": "stdout",
     "output_type": "stream",
     "text": [
      "Salário no ano de 2020: R$ 3993.36\n"
     ]
    }
   ],
   "source": [
    "#Alteração do programa permitindo que o usuário digite o salário inicial do funcionário.\n",
    "\n",
    "ano_inicio = 1995\n",
    "ano_atual = int(input(\"Digite de pesquisa: \")) \n",
    "salario_inicial = float(input(\"Digite o salário inicial: \")) \n",
    "percentual_de_aumento = 0.015 \n",
    "\n",
    "salario = salario_inicial   \n",
    "\n",
    "for i in range(ano_inicio, ano_atual + 1):  \n",
    "      salario += salario * percentual_de_aumento \n",
    "      if i <= 1997:                                \n",
    "        percentual_de_aumento *= 2\n",
    "\n",
    "print(f\"Salário no ano de {i}: R$ {salario:.2f}\")"
   ]
  },
  {
   "cell_type": "markdown",
   "metadata": {},
   "source": [
    "Faça um programa que calcule o fatorial de um número inteiro fornecido pelo usuário. Ex.: 5!=5.4.3.2.1=120. A saída deve ser conforme o exemplo abaixo:\n",
    "Fatorial de: 5\n",
    "5! =  5 . 4 . 3 . 2 . 1 = 120"
   ]
  },
  {
   "cell_type": "markdown",
   "metadata": {},
   "source": []
  },
  {
   "cell_type": "code",
   "execution_count": 29,
   "metadata": {},
   "outputs": [
    {
     "name": "stdout",
     "output_type": "stream",
     "text": [
      "Fatorial de: 4 \n",
      " 4! = 4.3.2.1 = 24\n"
     ]
    }
   ],
   "source": [
    "numero = int (input(\"Forneça um numero para saber a a fatorial dele:\"))\n",
    "mult = 1\n",
    "sequencia = \"\"\n",
    "for i in range(numero, 0,-1):\n",
    "\n",
    "    mult *= i\n",
    "    sequencia += str(i) + \".\"\n",
    "\n",
    "sequencia = sequencia.rstrip(\".\")\n",
    "    \n",
    "print(f\"Fatorial de: {numero} \\n {numero}! = {sequencia} = {mult}\")\n",
    "\n"
   ]
  },
  {
   "cell_type": "code",
   "execution_count": 2,
   "metadata": {},
   "outputs": [],
   "source": [
    "num = int(input('calcule o fatorial de:'))\n",
    "fatorial = 1\n",
    "fatores = []\n",
    "\n",
    "for i in range(num, 0, -1):\n",
    "    fatorial = fatorial * i\n",
    "    fatores.append(str(i)) \n",
    "\n",
    "fatorial_str = f'{num}! = {'.'.join(fatores)} = {fatorial}'\n",
    "print('fatorial_str')"
   ]
  }
 ],
 "metadata": {
  "kernelspec": {
   "display_name": "Python 3",
   "language": "python",
   "name": "python3"
  },
  "language_info": {
   "codemirror_mode": {
    "name": "ipython",
    "version": 3
   },
   "file_extension": ".py",
   "mimetype": "text/x-python",
   "name": "python",
   "nbconvert_exporter": "python",
   "pygments_lexer": "ipython3",
   "version": "3.12.3"
  }
 },
 "nbformat": 4,
 "nbformat_minor": 2
}
