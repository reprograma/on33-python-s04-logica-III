{
 "cells": [
  {
   "cell_type": "markdown",
   "metadata": {},
   "source": [
    "Faça um programa que calcule o fatorial de um número inteiro fornecido pelo usuário. Ex.: 5!=5.4.3.2.1=120."
   ]
  },
  {
   "cell_type": "code",
   "execution_count": 5,
   "metadata": {},
   "outputs": [
    {
     "name": "stdout",
     "output_type": "stream",
     "text": [
      "o valor fatorial é: 5\n",
      "o valor fatorial é: 20\n",
      "o valor fatorial é: 60\n",
      "o valor fatorial é: 120\n"
     ]
    }
   ],
   "source": [
    "f = int(input('Digite um número inteiro: '))\n",
    "\n",
    "for n in list(range(5,1,-1)):\n",
    "    f *= n  \n",
    "    print('o valor fatorial é:',f)\n"
   ]
  },
  {
   "cell_type": "markdown",
   "metadata": {},
   "source": [
    "Desenvolva um programa que faça a tabuada de um número qualquer inteiro que será digitado pelo usuário, mas a tabuada não deve necessariamente iniciar em 1 e terminar em 10, o valor inicial e final devem ser informados também pelo usuário, conforme exemplo abaixo:"
   ]
  },
  {
   "cell_type": "code",
   "execution_count": null,
   "metadata": {},
   "outputs": [],
   "source": [
    "multi = int(input(\"Digte um numero para ser multiplicado: \"))\n",
    "cont = int(input(\"Digte um numero para ser final: \"))\n",
    "pri = int(input(\"Digte um numero para ser inicial: \"))\n",
    "\n",
    "for i in range(pri, cont + 11):\n",
    "    resultado = multi * i\n",
    "    print(f\"{multi} x {i} = {resultado}\")"
   ]
  },
  {
   "cell_type": "markdown",
   "metadata": {},
   "source": [
    "Um funcionário de uma empresa recebe aumento salarial anualmente: Sabe-se que:\n",
    "Esse funcionário foi contratado em 1995, com salário inicial de R$ 1.000,00;\n",
    "a. Em 1996 recebeu aumento de 1,5% sobre seu salário inicial;\n",
    "b. A partir de 1997 (inclusive), os aumentos salariais sempre correspondem ao dobro do percentual do ano anterior. Faça um programa que determine o salário atual desse c. funcionário. Após concluir isto, altere o programa permitindo que o usuário digite o salário inicial do funcionário.\n"
   ]
  },
  {
   "cell_type": "code",
   "execution_count": null,
   "metadata": {},
   "outputs": [],
   "source": [
    "anoI = int(input(\"Digite o ano de contratação: \")) \n",
    "anoAtual = int(input('Informe o ano atual: '))\n",
    "salario = int(input(\"Digite o salário inicial: \")) \n",
    "percentual = 1.5 / 100\n",
    "\n",
    "novosalario = salario\n",
    "                 \n",
    "for i in range(anoI, anoAtual + 1):  \n",
    "      novosalario += salario * percentual \n",
    "      if i <= 1997:                                \n",
    "        percentual *= 2\n",
    "      print(f\"Salário no ano {i}: R$ {novosalario:.2f}\")\n",
    "\n"
   ]
  }
 ],
 "metadata": {
  "kernelspec": {
   "display_name": "Python 3",
   "language": "python",
   "name": "python3"
  },
  "language_info": {
   "codemirror_mode": {
    "name": "ipython",
    "version": 3
   },
   "file_extension": ".py",
   "mimetype": "text/x-python",
   "name": "python",
   "nbconvert_exporter": "python",
   "pygments_lexer": "ipython3",
   "version": "3.12.3"
  }
 },
 "nbformat": 4,
 "nbformat_minor": 2
}
