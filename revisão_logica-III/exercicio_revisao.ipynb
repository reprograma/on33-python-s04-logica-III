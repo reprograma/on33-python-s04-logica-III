{
 "cells": [
  {
   "cell_type": "code",
   "execution_count": 3,
   "metadata": {},
   "outputs": [
    {
     "name": "stdout",
     "output_type": "stream",
     "text": [
      "a média dos números é:  46.57\n"
     ]
    }
   ],
   "source": [
    "numeros = [23, 45, 12, 67, 89, 34, 56  ]#criação de lista, iniciando com soma zero\n",
    "soma = 0\n",
    "for num in numeros:\n",
    "    soma += num\n",
    "media = soma / len(numeros)\n",
    "\n",
    "print(f\"a média dos números é: {media: .2f}\")\n",
    "\n",
    "\n"
   ]
  },
  {
   "cell_type": "code",
   "execution_count": 5,
   "metadata": {},
   "outputs": [
    {
     "name": "stdout",
     "output_type": "stream",
     "text": [
      "Nenhuma coordenada está na origem.\n",
      "Nenhuma coordenada está na origem.\n",
      "Encontrou a coordenada na origem!\n"
     ]
    }
   ],
   "source": [
    "coordenadas = [(2, 5),(-3,0),(0,0),(8,-1), (1,1)]\n",
    "for coord in coordenadas:\n",
    "    if coord == (0,0):\n",
    "        print(\"Encontrou a coordenada na origem!\")\n",
    "        break\n",
    "    else:\n",
    "        print(\"Nenhuma coordenada está na origem.\")\n"
   ]
  }
 ],
 "metadata": {
  "kernelspec": {
   "display_name": "Python 3",
   "language": "python",
   "name": "python3"
  },
  "language_info": {
   "codemirror_mode": {
    "name": "ipython",
    "version": 3
   },
   "file_extension": ".py",
   "mimetype": "text/x-python",
   "name": "python",
   "nbconvert_exporter": "python",
   "pygments_lexer": "ipython3",
   "version": "3.12.4"
  }
 },
 "nbformat": 4,
 "nbformat_minor": 2
}
