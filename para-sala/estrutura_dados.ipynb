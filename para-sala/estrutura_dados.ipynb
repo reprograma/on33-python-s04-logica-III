{
 "cells": [
  {
   "cell_type": "markdown",
   "metadata": {},
   "source": [
    "\"Organizando nossos brinquedos\"\n",
    "Lista [], Dicionario{} e Tuplas ()"
   ]
  },
  {
   "cell_type": "code",
   "execution_count": 4,
   "metadata": {},
   "outputs": [
    {
     "name": "stdout",
     "output_type": "stream",
     "text": [
      "maça\n",
      "banana\n",
      "pão\n",
      "leite\n",
      "queijo\n"
     ]
    }
   ],
   "source": [
    "lista_de_compas = ['maça',  'banana', 'pão', 'leite', 'queijo']\n",
    "for item in lista_de_compas:\n",
    "    print(item)"
   ]
  },
  {
   "cell_type": "markdown",
   "metadata": {},
   "source": [
    "Exercício: Trabalhando com Tuplas\n",
    "Objetivo: Criar uma tupla com nomes de cores e imprimir cada cor."
   ]
  },
  {
   "cell_type": "code",
   "execution_count": 8,
   "metadata": {},
   "outputs": [
    {
     "name": "stdout",
     "output_type": "stream",
     "text": [
      "azul\n",
      "verde\n",
      "amarelo\n",
      "roxo\n"
     ]
    }
   ],
   "source": [
    "nomes_cores = ('azul', 'verde', 'amarelo', 'roxo',)\n",
    "for cor in nomes_cores:\n",
    "    print(cor)"
   ]
  },
  {
   "cell_type": "code",
   "execution_count": 6,
   "metadata": {},
   "outputs": [
    {
     "name": "stdout",
     "output_type": "stream",
     "text": [
      "<class 'tuple'>\n",
      "('sport', 'santa cruz', 'nautico', 'central')\n"
     ]
    }
   ],
   "source": [
    "times_pe = ('sport', 'santa cruz', 'nautico', 'central')\n",
    "\n",
    "print(type(times_pe)) \n",
    "print(times_pe) "
   ]
  },
  {
   "cell_type": "markdown",
   "metadata": {},
   "source": [
    "Trabalhando com Dicionários\n",
    "# Definindo um dicionário com informações sobre filmes e depois imprimir"
   ]
  },
  {
   "cell_type": "code",
   "execution_count": 40,
   "metadata": {},
   "outputs": [
    {
     "name": "stdout",
     "output_type": "stream",
     "text": [
      "O nome do filme é A vida é bela do gênero drama\n",
      "O nome do filme é Corra do gênero suspense\n",
      "O nome do filme é Orgulho e preconceito do gênero drama\n"
     ]
    }
   ],
   "source": [
    "Nomes_de_filmes = {'A vida é bela': 'drama', 'Corra': 'suspense', 'Orgulho e preconceito': 'drama'}\n",
    "for titulo, genero  in Nomes_de_filmes.items():\n",
    "    print(f\"O nome do filme é {titulo} do gênero {genero}\")\n"
   ]
  },
  {
   "cell_type": "code",
   "execution_count": null,
   "metadata": {},
   "outputs": [],
   "source": []
  }
 ],
 "metadata": {
  "kernelspec": {
   "display_name": "Python 3",
   "language": "python",
   "name": "python3"
  },
  "language_info": {
   "codemirror_mode": {
    "name": "ipython",
    "version": 3
   },
   "file_extension": ".py",
   "mimetype": "text/x-python",
   "name": "python",
   "nbconvert_exporter": "python",
   "pygments_lexer": "ipython3",
   "version": "3.12.4"
  }
 },
 "nbformat": 4,
 "nbformat_minor": 2
}
