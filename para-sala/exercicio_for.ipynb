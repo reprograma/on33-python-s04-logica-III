{
 "cells": [
  {
   "cell_type": "code",
   "execution_count": 1,
   "metadata": {},
   "outputs": [
    {
     "name": "stdout",
     "output_type": "stream",
     "text": [
      "0\n",
      "1\n",
      "2\n",
      "3\n",
      "4\n"
     ]
    }
   ],
   "source": [
    "for i in range(5):\n",
    "    print(i)\n"
   ]
  },
  {
   "cell_type": "markdown",
   "metadata": {},
   "source": [
    "# o numero do início equivale a nuemração inicial. o número do meio é até onde vai a contagem. o numero final é o intervalar. o i corresponde ao índice."
   ]
  },
  {
   "cell_type": "code",
   "execution_count": 14,
   "metadata": {},
   "outputs": [
    {
     "name": "stdout",
     "output_type": "stream",
     "text": [
      "3\n",
      "5\n",
      "7\n",
      "9\n",
      "11\n",
      "13\n"
     ]
    }
   ],
   "source": [
    "i = 0\n",
    "for i in range(3, 15, 2):\n",
    "    print(i)\n"
   ]
  },
  {
   "cell_type": "code",
   "execution_count": 16,
   "metadata": {},
   "outputs": [
    {
     "name": "stdout",
     "output_type": "stream",
     "text": [
      "Nome 1 : Ana \n",
      "Nome 2 : Carlos \n",
      "Nome 3 : Maria \n",
      "Nome 4 : Pedro \n"
     ]
    }
   ],
   "source": [
    "nomes = [\"Ana\", \"Carlos\", \"Maria\", \"Pedro\"] #lista com nomes\n",
    "for i in range(len(nomes)):\n",
    "    print(f\"Nome {i + 1} : {nomes[i]} \")"
   ]
  },
  {
   "cell_type": "code",
   "execution_count": 33,
   "metadata": {},
   "outputs": [
    {
     "name": "stdout",
     "output_type": "stream",
     "text": [
      "O Numero 2 é par\n",
      "O Numero 4 é par\n",
      "O Numero 6 é par\n",
      "O Numero 8 é par\n",
      "O Numero 10 é par\n"
     ]
    }
   ],
   "source": [
    "#imprimir numeros pares de 1 a 10 usando a função for\n",
    "\n",
    "\n",
    "for i in range(1, 11, 2):\n",
    "    print(f\"O Numero {i + 1} é par\")"
   ]
  },
  {
   "cell_type": "markdown",
   "metadata": {},
   "source": [
    "#Calcule a soma dos primeiros 5 números naturais\n"
   ]
  },
  {
   "cell_type": "code",
   "execution_count": 42,
   "metadata": {},
   "outputs": [
    {
     "name": "stdout",
     "output_type": "stream",
     "text": [
      "A soma dos primeiros 5 números naturais é: 15\n"
     ]
    }
   ],
   "source": [
    "soma = 0\n",
    "for i in range(1, 6):\n",
    "    soma += i\n",
    "print(f\"A soma dos primeiros 5 números naturais é: {soma}\" )"
   ]
  },
  {
   "cell_type": "code",
   "execution_count": null,
   "metadata": {},
   "outputs": [],
   "source": []
  }
 ],
 "metadata": {
  "kernelspec": {
   "display_name": "Python 3",
   "language": "python",
   "name": "python3"
  },
  "language_info": {
   "codemirror_mode": {
    "name": "ipython",
    "version": 3
   },
   "file_extension": ".py",
   "mimetype": "text/x-python",
   "name": "python",
   "nbconvert_exporter": "python",
   "pygments_lexer": "ipython3",
   "version": "3.12.4"
  }
 },
 "nbformat": 4,
 "nbformat_minor": 2
}
