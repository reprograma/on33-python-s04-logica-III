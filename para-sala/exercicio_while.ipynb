{
 "cells": [
  {
   "cell_type": "code",
   "execution_count": 1,
   "metadata": {},
   "outputs": [
    {
     "name": "stdout",
     "output_type": "stream",
     "text": [
      "Eu tenho 0 balas\n",
      "Eu tenho 1 balas\n",
      "Eu tenho 2 balas\n",
      "Eu tenho 3 balas\n",
      "Eu tenho 4 balas\n"
     ]
    }
   ],
   "source": [
    "balas = 0\n",
    "while balas < 5:\n",
    "    print(\"Eu tenho\", balas,\"balas\")\n",
    "    balas = balas + 1"
   ]
  },
  {
   "cell_type": "code",
   "execution_count": 2,
   "metadata": {},
   "outputs": [
    {
     "name": "stdout",
     "output_type": "stream",
     "text": [
      "Ainda não está cheio, tenho 0 litros de água no balde\n",
      "O balde está cheio\n",
      "Ainda não está cheio, tenho 1 litros de água no balde\n",
      "O balde está cheio\n",
      "Ainda não está cheio, tenho 2 litros de água no balde\n",
      "O balde está cheio\n",
      "Ainda não está cheio, tenho 3 litros de água no balde\n",
      "O balde está cheio\n",
      "Ainda não está cheio, tenho 4 litros de água no balde\n",
      "O balde está cheio\n"
     ]
    }
   ],
   "source": [
    "agua_no_balde = 0\n",
    "balde_cheio = 5\n",
    "\n",
    "while agua_no_balde < balde_cheio:\n",
    "    print('Ainda não está cheio, tenho', agua_no_balde, 'litros de água no balde')\n",
    "    agua_no_balde +=1\n",
    "\n",
    "    print ('O balde está cheio')\n"
   ]
  },
  {
   "cell_type": "code",
   "execution_count": 41,
   "metadata": {},
   "outputs": [
    {
     "name": "stdout",
     "output_type": "stream",
     "text": [
      "você tem 0 minutos\n",
      "você tem 1 minutos\n",
      "você tem 2 minutos\n",
      "você tem 3 minutos\n",
      "você tem 4 minutos\n",
      "você tem 5 minutos\n",
      "Seu tempo esgotou\n"
     ]
    }
   ],
   "source": [
    "#Exercício 1: Contagem Regressiva Simples Este exercício pede para criar um contador regressivo de 5 até 1.\n",
    "\n",
    "contagem_regressiva = 0\n",
    "tempo_esgotado = 6\n",
    "while contagem_regressiva < tempo_esgotado:\n",
    "    print('você tem', contagem_regressiva, 'minutos')\n",
    "    contagem_regressiva +=1\n",
    "\n",
    "\n",
    "print ('Seu tempo esgotou')\n",
    "\n",
    "    "
   ]
  },
  {
   "cell_type": "code",
   "execution_count": 46,
   "metadata": {},
   "outputs": [
    {
     "name": "stdout",
     "output_type": "stream",
     "text": [
      "5\n",
      "4\n",
      "3\n",
      "2\n",
      "1\n",
      "seu tempo acabou!\n"
     ]
    }
   ],
   "source": [
    "contagem_regressiva = 5\n",
    "\n",
    "while contagem_regressiva > 0:\n",
    "    print(contagem_regressiva)\n",
    "    contagem_regressiva -=1\n",
    "\n",
    "    \n",
    "print('seu tempo acabou!')"
   ]
  },
  {
   "cell_type": "code",
   "execution_count": 47,
   "metadata": {},
   "outputs": [
    {
     "name": "stdout",
     "output_type": "stream",
     "text": [
      "5\n",
      "4\n",
      "3\n",
      "2\n",
      "1\n",
      "Foi!\n"
     ]
    }
   ],
   "source": [
    "contador = 5\n",
    "while contador > 0:\n",
    "    print(contador)\n",
    "    contador -= 1\n",
    "    #contador = contador - 1\n",
    "    \n",
    "print(\"Foi!\")"
   ]
  },
  {
   "cell_type": "code",
   "execution_count": 50,
   "metadata": {},
   "outputs": [
    {
     "name": "stdout",
     "output_type": "stream",
     "text": [
      "5\n",
      "4\n",
      "3\n",
      "2\n",
      "1\n",
      "Foi!\n"
     ]
    }
   ],
   "source": [
    "contador = 5\n",
    "while contador > 0:\n",
    "    print(contador)\n",
    "    contador = contador - 1\n",
    "    \n",
    "print(\"Foi!\")"
   ]
  },
  {
   "cell_type": "markdown",
   "metadata": {},
   "source": [
    "Exercício 2: Tabuada de Multiplicação\n",
    "Neste exercício, o programa calcula e exibe a tabuada de multiplicação de um número escolhido pelo usuário."
   ]
  },
  {
   "cell_type": "code",
   "execution_count": 96,
   "metadata": {},
   "outputs": [
    {
     "name": "stdout",
     "output_type": "stream",
     "text": [
      "0\n",
      "2\n",
      "4\n",
      "6\n",
      "8\n",
      "10\n",
      "12\n",
      "14\n",
      "16\n",
      "18\n",
      "20\n",
      "tudo feito\n"
     ]
    }
   ],
   "source": [
    "tabuada_multiplicacao = 0\n",
    "\n",
    "while tabuada_multiplicacao <= 10:\n",
    "    print(tabuada_multiplicacao*2)\n",
    "    tabuada_multiplicacao +=1 #incrementador\n",
    "print('tudo feito')"
   ]
  },
  {
   "cell_type": "code",
   "execution_count": 97,
   "metadata": {},
   "outputs": [
    {
     "name": "stdout",
     "output_type": "stream",
     "text": [
      "3 x 0 = 0\n",
      "3 x 1 = 3\n",
      "3 x 2 = 6\n",
      "3 x 3 = 9\n",
      "3 x 4 = 12\n",
      "3 x 5 = 15\n",
      "3 x 6 = 18\n",
      "3 x 7 = 21\n",
      "3 x 8 = 24\n",
      "3 x 9 = 27\n",
      "3 x 10 = 30\n",
      "Final\n"
     ]
    }
   ],
   "source": [
    "numero = int(input(\"Digite um número:\"))\n",
    "contador = 0\n",
    "while contador <= 10:\n",
    "    resultado = numero * contador\n",
    "    print(f\"{numero} x {contador} = {resultado}\")\n",
    "    contador += 1\n",
    "    \n",
    "print(\"Final\")"
   ]
  },
  {
   "cell_type": "markdown",
   "metadata": {},
   "source": [
    "# Exercício 2: Tabuada de Multiplicação\n",
    "Neste exercício, o programa calcula e exibe a tabuada de multiplicação de um número escolhido pelo usuário.\n",
    "\n",
    "A logica utilizada foi:\n",
    "- declarar uma variavel que guarde o num_usuário, ou seja o número que o usuário irá informar;\n",
    "- num_usuario = int(input) - estou declarando que essa variavel será inteira com função de input;\n",
    "- declarar uma variavel que será usado como base para a quantidade de vezes que será multiplicado a variavel num_usuario;\n",
    "- inicia o bloco de repetição while;\n",
    "- while multiplicado <= 10 - enquanto multiplicador for menor ou igual a 10;\n",
    "- resultado = num_usuario * multiplicador - realize a multiplicação (*)  da variavel num_usuario com a variavel multiplicador;\n",
    "- print(f\"{num_usuario} x {multiplicador} = {resultado}\") - exibe o valor informado pelo usuário x o multiplicador = e o seu resultado;\n",
    "- até multiplicador chegar a 10;\n",
    "- multiplicador += 1 - linha que aplica uma operação de atribuição que encrementa o valor 1, ou seja multiplicador que tem valor 1 + 1;\n",
    "- print('mensagem') - exibe uma mensagem informando o fim do bloco de repetição;\n",
    "--------------------------------------------------------------------------------------------------------------\n",
    "num_usuario = int(input('Selecione um número que você gostaria de exiber a tabuada: '))\n",
    "multiplicador = 1\n",
    "\n",
    "while multiplicador <= 10:\n",
    "    resultado = num_usuario * multiplicador\n",
    "    print(f\"{num_usuario} x {multiplicador} = {resultado}\")\n",
    "    multiplicador += 1"
   ]
  }
 ],
 "metadata": {
  "kernelspec": {
   "display_name": "Python 3",
   "language": "python",
   "name": "python3"
  },
  "language_info": {
   "codemirror_mode": {
    "name": "ipython",
    "version": 3
   },
   "file_extension": ".py",
   "mimetype": "text/x-python",
   "name": "python",
   "nbconvert_exporter": "python",
   "pygments_lexer": "ipython3",
   "version": "3.12.4"
  }
 },
 "nbformat": 4,
 "nbformat_minor": 2
}
