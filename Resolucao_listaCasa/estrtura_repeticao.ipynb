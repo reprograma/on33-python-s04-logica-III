{
 "cells": [
  {
   "cell_type": "markdown",
   "metadata": {},
   "source": [
    "Estrutura de Repetição\n",
    "36. Desenvolva um programa que faça a tabuada de um número qualquer inteiro que será digitado pelo usuário, mas a tabuada não deve necessariamente iniciar em 1 e terminar em 10, o valor inicial e final devem ser informados também pelo usuário, conforme exemplo abaixo:"
   ]
  },
  {
   "cell_type": "code",
   "execution_count": 4,
   "metadata": {},
   "outputs": [
    {
     "name": "stdout",
     "output_type": "stream",
     "text": [
      "3 x 2 = 6\n",
      "3 x 4 = 12\n",
      "3 x 6 = 18\n",
      "3 x 8 = 24\n",
      "3 x 10 = 30\n",
      "3 x 12 = 36\n",
      "3 x 14 = 42\n",
      "3 x 16 = 48\n",
      "3 x 18 = 54\n",
      "3 x 20 = 60\n",
      "Final\n"
     ]
    }
   ],
   "source": [
    "tabuada = int(input(\"Digite um número:\"))\n",
    "contador = 2 #número inicial/ a partir de 2\n",
    "\n",
    "while contador <= 20:# terminar em 20 - número final\n",
    "    resultado = tabuada * contador#tabuada de multuplicação\n",
    "    print(f\"{tabuada} x {contador} = {resultado}\")#configuração decrescente da tabuada de multiplicação\n",
    "    contador += 2#quantidade de laços/de 2 em 2\n",
    "    \n",
    "print(\"Final\")"
   ]
  },
  {
   "cell_type": "markdown",
   "metadata": {},
   "source": [
    "38. Um funcionário de uma empresa recebe aumento salarial anualmente. Sabe-se que:\n",
    "Esse funcionário foi contratado em 1995, com salário inicial de R$ 1.000,00;\n",
    "Em 1996 recebeu aumento de 1,5% sobre seu salário inicial;\n",
    "A partir de 1997 (inclusive), os aumentos salariais sempre correspondem ao dobro do percentual do ano anterior. Faça um programa que determine o salário atual desse funcionário. Após concluir isto, altere o programa permitindo que o usuário digite o salário inicial do funcionário."
   ]
  },
  {
   "cell_type": "code",
   "execution_count": 87,
   "metadata": {},
   "outputs": [
    {
     "name": "stdout",
     "output_type": "stream",
     "text": [
      "O atual salário  em 2024 é R$  64780166694621097717661435651754373841996112945846734312267054465902060362530816.00\n"
     ]
    }
   ],
   "source": [
    "ano_entrada = 1995\n",
    "ano_atual = 2024\n",
    "salário_inicial = 1000.00\n",
    "aumento_perc = 1.5 \n",
    "\n",
    "salário_atual = salário_inicial \n",
    "\n",
    "\n",
    "for ano in range (ano_entrada + 1, ano_atual + 1):\n",
    "    salário_atual += salário_atual * (aumento_perc / 100 )\n",
    "    aumento_perc *=2\n",
    "    \n",
    "   \n",
    "\n",
    "print(f'O atual salário  em {ano_atual} é R$ {salário_atual: .2f}')\n"
   ]
  },
  {
   "cell_type": "markdown",
   "metadata": {},
   "source": [
    "Altere o programa permitindo que o usuário digite o salário inicial do funcionário."
   ]
  },
  {
   "cell_type": "code",
   "execution_count": 84,
   "metadata": {},
   "outputs": [
    {
     "name": "stdout",
     "output_type": "stream",
     "text": [
      "O atual salário  em 2024 é R$  45346116686234760503941129814439059345545202786810290101454783084948098180448256.00\n"
     ]
    }
   ],
   "source": [
    "salário_inicial = float(input('Digite o valor do salário inicial do funcionário'))\n",
    "\n",
    "ano_entrada = 1995\n",
    "ano_atual = 2024\n",
    "aumento_perc = 1.5 \n",
    "\n",
    "salário_atual = salário_inicial \n",
    "\n",
    "\n",
    "for ano in range (ano_entrada + 1, ano_atual + 1):\n",
    "    salário_atual += salário_atual * (aumento_perc / 100 )\n",
    "    aumento_perc *=2\n",
    "    \n",
    "   \n",
    "\n",
    "print(f'O atual salário  em {ano_atual} é R$ {salário_atual: .2f}')"
   ]
  },
  {
   "cell_type": "markdown",
   "metadata": {},
   "source": [
    "32. Faça um programa que calcule o fatorial de um número inteiro fornecido pelo usuário. Ex.: 5!=5.4.3.2.1=120. A saída deve ser conforme o exemplo abaixo:\n",
    "Fatorial de: 5\n",
    "5! =  5 . 4 . 3 . 2 . 1 = 120"
   ]
  },
  {
   "cell_type": "code",
   "execution_count": 25,
   "metadata": {},
   "outputs": [
    {
     "name": "stdout",
     "output_type": "stream",
     "text": [
      "O fatorial de 3 é: 9\n"
     ]
    }
   ],
   "source": [
    "n = int(input(\"insira um número inteiro válido:\"))\n",
    "num_fatorial = n\n",
    "\n",
    "fatorial = 1\n",
    "\n",
    "while fatorial <= n:\n",
    "    resultado = n * fatorial\n",
    "    fatorial += 1\n",
    "\n",
    "print(f\"O fatorial de {n} é: {resultado}\")\n",
    "\n",
    "\n",
    "\n",
    "\n"
   ]
  },
  {
   "cell_type": "code",
   "execution_count": 20,
   "metadata": {},
   "outputs": [
    {
     "name": "stdout",
     "output_type": "stream",
     "text": [
      " 5! corresponde a:    5 . 5 . 5 . 5 . 5 .  = 120  \n"
     ]
    }
   ],
   "source": [
    "numero = int(input(\"insira um número inteiro : \") )\n",
    "\n",
    "\n",
    "sequencia = \"  \"\n",
    "\n",
    "resultado= 1\n",
    "count=1\n",
    "\n",
    "while count <= numero:\n",
    "    resultado *= count \n",
    "    count += 1\n",
    "    sequencia += str (numero)+\" . \"\n",
    "\n",
    "  \n",
    "print(f\" {numero}! corresponde a:  {sequencia } = { resultado }  \")\n"
   ]
  },
  {
   "cell_type": "markdown",
   "metadata": {},
   "source": [
    "Infelizmente não consegui colocar no formato solicitado."
   ]
  }
 ],
 "metadata": {
  "kernelspec": {
   "display_name": "Python 3",
   "language": "python",
   "name": "python3"
  },
  "language_info": {
   "codemirror_mode": {
    "name": "ipython",
    "version": 3
   },
   "file_extension": ".py",
   "mimetype": "text/x-python",
   "name": "python",
   "nbconvert_exporter": "python",
   "pygments_lexer": "ipython3",
   "version": "3.12.4"
  }
 },
 "nbformat": 4,
 "nbformat_minor": 2
}
