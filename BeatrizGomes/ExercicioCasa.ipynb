{
 "cells": [
  {
   "cell_type": "markdown",
   "metadata": {},
   "source": [
    "4.Supondo que a população de um país A seja da ordem de 80000 habitantes com uma taxa anual de crescimento de 3% e que a população de B seja 200000 habitantes com uma taxa de crescimento de 1.5%. Faça um programa que calcule e escreva o número de anos necessários para que a população do país A ultrapasse ou iguale a população do país B, mantidas as taxas de crescimento."
   ]
  },
  {
   "cell_type": "code",
   "execution_count": 4,
   "metadata": {},
   "outputs": [
    {
     "name": "stdout",
     "output_type": "stream",
     "text": [
      "Ainda não igualou nem superou\n",
      "Ainda não igualou nem superou\n",
      "Ainda não igualou nem superou\n",
      "Ainda não igualou nem superou\n",
      "Ainda não igualou nem superou\n",
      "Ainda não igualou nem superou\n",
      "Ainda não igualou nem superou\n",
      "Ainda não igualou nem superou\n",
      "Ainda não igualou nem superou\n",
      "Ainda não igualou nem superou\n",
      "Ainda não igualou nem superou\n",
      "Ainda não igualou nem superou\n",
      "Ainda não igualou nem superou\n",
      "Ainda não igualou nem superou\n",
      "Ainda não igualou nem superou\n",
      "Ainda não igualou nem superou\n",
      "Ainda não igualou nem superou\n",
      "Ainda não igualou nem superou\n",
      "Ainda não igualou nem superou\n",
      "Ainda não igualou nem superou\n",
      "Ainda não igualou nem superou\n",
      "Ainda não igualou nem superou\n",
      "Ainda não igualou nem superou\n",
      "Ainda não igualou nem superou\n",
      "Ainda não igualou nem superou\n",
      "Ainda não igualou nem superou\n",
      "Ainda não igualou nem superou\n",
      "Ainda não igualou nem superou\n",
      "Ainda não igualou nem superou\n",
      "Ainda não igualou nem superou\n",
      "Ainda não igualou nem superou\n",
      "Ainda não igualou nem superou\n",
      "Ainda não igualou nem superou\n",
      "Ainda não igualou nem superou\n",
      "Ainda não igualou nem superou\n",
      "Ainda não igualou nem superou\n",
      "Ainda não igualou nem superou\n",
      "Ainda não igualou nem superou\n",
      "Ainda não igualou nem superou\n",
      "Ainda não igualou nem superou\n",
      "Ainda não igualou nem superou\n",
      "Ainda não igualou nem superou\n",
      "Ainda não igualou nem superou\n",
      "Ainda não igualou nem superou\n",
      "Ainda não igualou nem superou\n",
      "Ainda não igualou nem superou\n",
      "Ainda não igualou nem superou\n",
      "Ainda não igualou nem superou\n",
      "Ainda não igualou nem superou\n",
      "Ainda não igualou nem superou\n",
      "Ainda não igualou nem superou\n",
      "Ainda não igualou nem superou\n",
      "Ainda não igualou nem superou\n",
      "Ainda não igualou nem superou\n",
      "Ainda não igualou nem superou\n",
      "Ainda não igualou nem superou\n",
      "Ainda não igualou nem superou\n",
      "Ainda não igualou nem superou\n",
      "Ainda não igualou nem superou\n",
      "Ainda não igualou nem superou\n",
      "Ainda não igualou nem superou\n",
      "Ainda não igualou nem superou\n",
      "Ainda não igualou nem superou\n",
      "A (515033.10280596686) se igualou a B (510964.41696222295) no ano de 2087, foram necessários 63 anos\n"
     ]
    }
   ],
   "source": [
    "## a = 80.000\n",
    "##  cres -> 3% anual\n",
    "## b = 200.000\n",
    "##  cresc -> 1,5% anual\n",
    "\n",
    "a = 80000\n",
    "b = 200000\n",
    "ano = 2024\n",
    "\n",
    "while a < b:\n",
    "    print('Ainda não igualou nem superou')\n",
    "    a += a * 0.03\n",
    "    b += b * 0.015\n",
    "    ano += 1\n",
    "\n",
    "print(f'A ({a}) se igualou a B ({b}) no ano de {ano}, foram necessários {ano - 2024} anos')\n"
   ]
  },
  {
   "cell_type": "markdown",
   "metadata": {},
   "source": [
    "5. Altere o programa anterior permitindo ao usuário informar as populações e as taxas de crescimento iniciais. Valide a entrada e permita repetir a operação."
   ]
  },
  {
   "cell_type": "code",
   "execution_count": 6,
   "metadata": {},
   "outputs": [
    {
     "ename": "ValueError",
     "evalue": "invalid literal for int() with base 10: ''",
     "output_type": "error",
     "traceback": [
      "\u001b[1;31m---------------------------------------------------------------------------\u001b[0m",
      "\u001b[1;31mValueError\u001b[0m                                Traceback (most recent call last)",
      "Cell \u001b[1;32mIn[6], line 1\u001b[0m\n\u001b[1;32m----> 1\u001b[0m a \u001b[38;5;241m=\u001b[39m \u001b[38;5;28;43mint\u001b[39;49m\u001b[43m(\u001b[49m\u001b[38;5;28;43minput\u001b[39;49m\u001b[43m(\u001b[49m\u001b[38;5;124;43m'\u001b[39;49m\u001b[38;5;124;43mDefina o tamanho da população da cidade A: \u001b[39;49m\u001b[38;5;124;43m'\u001b[39;49m\u001b[43m)\u001b[49m\u001b[43m)\u001b[49m\n\u001b[0;32m      2\u001b[0m txA \u001b[38;5;241m=\u001b[39m \u001b[38;5;28mfloat\u001b[39m(\u001b[38;5;28minput\u001b[39m(\u001b[38;5;124m'\u001b[39m\u001b[38;5;124mDefina a taxa de crescimento anual da cidade A: \u001b[39m\u001b[38;5;124m'\u001b[39m))\n\u001b[0;32m      3\u001b[0m b \u001b[38;5;241m=\u001b[39m \u001b[38;5;28mint\u001b[39m(\u001b[38;5;28minput\u001b[39m(\u001b[38;5;124m'\u001b[39m\u001b[38;5;124mDefina o tamanho da população da cidade B: \u001b[39m\u001b[38;5;124m'\u001b[39m))\n",
      "\u001b[1;31mValueError\u001b[0m: invalid literal for int() with base 10: ''"
     ]
    }
   ],
   "source": [
    "a = int(input('Defina o tamanho da população da cidade A: '))\n",
    "txA = float(input('Defina a taxa de crescimento anual da cidade A: '))\n",
    "b = int(input('Defina o tamanho da população da cidade B: '))\n",
    "txB = float(input('Defina a taxa de crescimento anual da cidade B: '))\n",
    "ano = 2024\n",
    "\n",
    "while a < b:\n",
    "    print('Ainda não igualou nem superou')\n",
    "    a += a * txA\n",
    "    b += b * txB\n",
    "    ano += 1\n",
    "\n",
    "print(f'A ({a}) se igualou a B ({b}) no ano de {ano}, foram necessários {ano - 2024} anos')\n",
    "\n"
   ]
  },
  {
   "cell_type": "markdown",
   "metadata": {},
   "source": [
    "32. Faça um programa que calcule o fatorial de um número inteiro fornecido pelo usuário. Ex.: 5!=5.4.3.2.1=120. A saída deve ser conforme o exemplo abaixo:\n"
   ]
  },
  {
   "cell_type": "code",
   "execution_count": 78,
   "metadata": {},
   "outputs": [
    {
     "name": "stdout",
     "output_type": "stream",
     "text": [
      "5! =  5 * 4 * 3 * 2 * 1 = 120.\n"
     ]
    }
   ],
   "source": [
    "n = int(input('Digite um número de 1 a 10: '))\n",
    "numero = 1\n",
    "fatIn = n\n",
    "\n",
    "print(f'{fatIn}! = ', end=' ')\n",
    "\n",
    "for n in range(n, 0, -1):\n",
    "    print(f'{n}', end='')\n",
    "    if n > 1:\n",
    "        print(' * ', end='')\n",
    "\n",
    "    numero *= n\n",
    "\n",
    "print(f' = {numero}.')\n",
    "\n",
    "    \n",
    "    "
   ]
  },
  {
   "cell_type": "markdown",
   "metadata": {},
   "source": [
    "36. Desenvolva um programa que faça a tabuada de um número qualquer inteiro que será digitado pelo usuário, mas a tabuada não deve necessariamente iniciar em 1 e terminar em 10, o valor inicial e final devem ser informados também pelo usuário, conforme exemplo abaixo:"
   ]
  },
  {
   "cell_type": "code",
   "execution_count": 41,
   "metadata": {},
   "outputs": [
    {
     "name": "stdout",
     "output_type": "stream",
     "text": [
      "5 * 1 = 5\n",
      "5 * 2 = 10\n",
      "5 * 3 = 15\n",
      "5 * 4 = 20\n",
      "5 * 5 = 25\n",
      "5 * 6 = 30\n",
      "5 * 7 = 35\n",
      "5 * 8 = 40\n",
      "5 * 9 = 45\n",
      "5 * 10 = 50\n",
      "Tabuada Concluída!\n"
     ]
    }
   ],
   "source": [
    "tabuada = int(input('Digite um número inteiro para calcular a tabuada: '))\n",
    "vlrIn = int(input('Defina por onde a tabuada iniciará: '))\n",
    "vlrFin = int(input('Defina até onde a tabuada irá: '))\n",
    "resultado = tabuada * vlrIn\n",
    "\n",
    "while vlrIn <= vlrFin:\n",
    "    print(f'{tabuada} * {vlrIn} = {resultado}')\n",
    "    vlrIn += 1\n",
    "    resultado = tabuada * vlrIn\n",
    "\n",
    "print('Tabuada Concluída!')"
   ]
  },
  {
   "cell_type": "markdown",
   "metadata": {},
   "source": [
    "38. Um funcionário de uma empresa recebe aumento salarial anualmente: Sabe-se que:\n",
    "Esse funcionário foi contratado em 1995, com salário inicial de R$ 1.000,00;\n",
    "Em 1996 recebeu aumento de 1,5% sobre seu salário inicial;\n",
    "A partir de 1997 (inclusive), os aumentos salariais sempre correspondem ao dobro do percentual do ano anterior. Faça um programa que determine o salário atual desse funcionário. Após concluir isto, altere o programa permitindo que o usuário digite o salário inicial do funcionário."
   ]
  },
  {
   "cell_type": "code",
   "execution_count": 25,
   "metadata": {},
   "outputs": [
    {
     "name": "stdout",
     "output_type": "stream",
     "text": [
      "Salário no ano 1995: R$ 1015.00\n",
      "Salário no ano 1996: R$ 1045.00\n",
      "Salário no ano 1997: R$ 1105.00\n",
      "Salário no ano 1998: R$ 1225.00\n",
      "Salário no ano 1999: R$ 1345.00\n",
      "Salário no ano 2000: R$ 1465.00\n",
      "Salário no ano 2001: R$ 1585.00\n",
      "Salário no ano 2002: R$ 1705.00\n",
      "Salário no ano 2003: R$ 1825.00\n",
      "Salário no ano 2004: R$ 1945.00\n",
      "Salário no ano 2005: R$ 2065.00\n",
      "Salário no ano 2006: R$ 2185.00\n",
      "Salário no ano 2007: R$ 2305.00\n",
      "Salário no ano 2008: R$ 2425.00\n",
      "Salário no ano 2009: R$ 2545.00\n",
      "Salário no ano 2010: R$ 2665.00\n",
      "Salário no ano 2011: R$ 2785.00\n",
      "Salário no ano 2012: R$ 2905.00\n",
      "Salário no ano 2013: R$ 3025.00\n",
      "Salário no ano 2014: R$ 3145.00\n",
      "Salário no ano 2015: R$ 3265.00\n",
      "Salário no ano 2016: R$ 3385.00\n",
      "Salário no ano 2017: R$ 3505.00\n",
      "Salário no ano 2018: R$ 3625.00\n",
      "Salário no ano 2019: R$ 3745.00\n",
      "Salário no ano 2020: R$ 3865.00\n",
      "Salário no ano 2021: R$ 3985.00\n",
      "Salário no ano 2022: R$ 4105.00\n",
      "Salário no ano 2023: R$ 4225.00\n",
      "Salário no ano 2024: R$ 4345.00\n"
     ]
    }
   ],
   "source": [
    "anoIn = 1995\n",
    "anoAt = 2024\n",
    "salario = int(input('Digite o salário inicial: '))\n",
    "percentual = 0.015\n",
    "\n",
    "novosalario = salario\n",
    "\n",
    "for i in range(anoIn, anoAt + 1):\n",
    "    novosalario += salario * percentual\n",
    "    if i <= 1997:\n",
    "        percentual *= 2\n",
    "    print(f'Salário no ano {i}: R$ {novosalario:.2f}')"
   ]
  }
 ],
 "metadata": {
  "kernelspec": {
   "display_name": "Python 3",
   "language": "python",
   "name": "python3"
  },
  "language_info": {
   "codemirror_mode": {
    "name": "ipython",
    "version": 3
   },
   "file_extension": ".py",
   "mimetype": "text/x-python",
   "name": "python",
   "nbconvert_exporter": "python",
   "pygments_lexer": "ipython3",
   "version": "3.12.3"
  }
 },
 "nbformat": 4,
 "nbformat_minor": 2
}
