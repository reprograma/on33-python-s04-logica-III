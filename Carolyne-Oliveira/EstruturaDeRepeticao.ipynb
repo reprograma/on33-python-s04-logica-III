{
 "cells": [
  {
   "cell_type": "markdown",
   "metadata": {},
   "source": [
    "## 32.\n",
    "Faça um programa que calcule o fatorial de um número inteiro fornecido pelo usuário. Ex.: 5!=5.4.3.2.1=120. A saída deve ser conforme o exemplo abaixo:\n",
    "Fatorial de: 5\n",
    "5! =  5 . 4 . 3 . 2 . 1 = 120"
   ]
  },
  {
   "cell_type": "code",
   "execution_count": 13,
   "metadata": {},
   "outputs": [
    {
     "name": "stdout",
     "output_type": "stream",
     "text": [
      "Fatorial de: 5\n",
      "5! = 5 . 4 . 3 . 2 . 1 = 120\n"
     ]
    }
   ],
   "source": [
    "#definir funcao para calcular o fatorial\n",
    "def calcular_fatorial(numero):\n",
    "    fatorial = 1\n",
    "    for i in range(1, int(numero) + 1): #tive que transformar a entrada para int.\n",
    "        fatorial *= i\n",
    "    return fatorial     \n",
    "    \n",
    "#solicitar ao usuario um número inteiro\n",
    "numero = input(\"Insira um número inteiro: \")\n",
    "\n",
    "#chamar a funcao definida acima para calcular o fatorial com o numero inserido pelo usuario.\n",
    "resultado = calcular_fatorial(numero)\n",
    "\n",
    "#exibir o resultado do calculo.\n",
    "print(f'Fatorial de: {int(numero)}')\n",
    "print(f\"{int(numero)}! = {' . '.join(str(i) for i in range(int(numero), 0, -1))} = {resultado}\")\n"
   ]
  },
  {
   "cell_type": "markdown",
   "metadata": {},
   "source": [
    "## 36.\n",
    "Desenvolva um programa que faça a tabuada de um número qualquer inteiro que será digitado pelo usuário, mas a tabuada não deve necessariamente iniciar em 1 e terminar em 10, o valor inicial e final devem ser informados também pelo usuário, conforme exemplo abaixo:\n",
    "\n",
    "Montar a tabuada de: 5\n",
    "Começar por: 4\n",
    "Terminar em: 7\n",
    "\n",
    "Vou montar a tabuada de 5 começando em 4 e terminando em 7:\n",
    "5 X 4 = 20\n",
    "5 X 5 = 25\n",
    "5 X 6 = 30\n",
    "5 X 7 = 35\n",
    "Obs: Você deve verificar se o usuário não digitou o final menor que o inicial."
   ]
  },
  {
   "cell_type": "code",
   "execution_count": 15,
   "metadata": {},
   "outputs": [
    {
     "name": "stdout",
     "output_type": "stream",
     "text": [
      "8 x 4 = 32\n",
      "8 x 5 = 40\n",
      "8 x 6 = 48\n",
      "8 x 7 = 56\n",
      "8 x 8 = 64\n",
      "8 x 9 = 72\n"
     ]
    }
   ],
   "source": [
    "#solicitar ao usuario números\n",
    "numero = int(input(\"Digite um número para ser multiplicado: \"))\n",
    "multiplicador_inicial = int(input(\"Digite um número para ser o multiplicador inicial:\"))\n",
    "multiplicador_final = int(input(\"Digite outro número para ser o multiplicador final:\"))\n",
    "\n",
    "#calcular a tabuada\n",
    "while multiplicador_inicial <= multiplicador_final:\n",
    "    resultado = numero * multiplicador_inicial\n",
    "    print(f\"{numero} x {multiplicador_inicial} = {resultado}\")\n",
    "    multiplicador_inicial += 1\n"
   ]
  },
  {
   "cell_type": "markdown",
   "metadata": {},
   "source": [
    "## 38.\n",
    "Um funcionário de uma empresa recebe aumento salarial anualmente: Sabe-se que:\n",
    "Esse funcionário foi contratado em 1995, com salário inicial de R$ 1.000,00;\n",
    "Em 1996 recebeu aumento de 1,5% sobre seu salário inicial;\n",
    "A partir de 1997 (inclusive), os aumentos salariais sempre correspondem ao dobro do percentual do ano anterior. Faça um programa que determine o salário atual desse funcionário. Após concluir isto, altere o programa permitindo que o usuário digite o salário inicial do funcionário."
   ]
  },
  {
   "cell_type": "code",
   "execution_count": 14,
   "metadata": {},
   "outputs": [
    {
     "name": "stdout",
     "output_type": "stream",
     "text": [
      "O salário atual deste funcionário é de: R$ 21099.77\n"
     ]
    }
   ],
   "source": [
    "#Salário inicial em 1995\n",
    "salario_inicial = float(1000)\n",
    "#Aumento salarial\n",
    "aumento_inicial = float(1.5/100)\n",
    "#ano de contratacao\n",
    "ano_contratacao = 1995\n",
    "#ano atual\n",
    "ano_atual = 2023\n",
    "\n",
    "#calcular o salário anual\n",
    "for ano in range(1995, 2023 +1):\n",
    "    salario_inicial += salario_inicial * aumento_inicial\n",
    "    if ano <= 1997:\n",
    "       aumento_inicial *= 2 \n",
    "\n",
    "print(f'O salário atual deste funcionário é de: R$ {salario_inicial:.2f}')"
   ]
  },
  {
   "cell_type": "code",
   "execution_count": 9,
   "metadata": {},
   "outputs": [
    {
     "name": "stdout",
     "output_type": "stream",
     "text": [
      "Seu salário atual é de: R$ 42199.54\n"
     ]
    }
   ],
   "source": [
    "#Usuario digita seu salário inicial\n",
    "salario_inicial = float(input('Digite o salário inicial do funcionário em reais: '))\n",
    "\n",
    "#ano de contratacao\n",
    "ano_contratacao = 1995\n",
    "\n",
    "#ano atual\n",
    "ano_atual = 2023\n",
    "\n",
    "#Variavel de aumento de salário anual.\n",
    "aumento_inicial = 1.5 / 100\n",
    "\n",
    "#calcular o salário anual\n",
    "for ano in range(ano_contratacao, ano_atual + 1):\n",
    "    salario_inicial += salario_inicial * aumento_inicial\n",
    "    if ano <= 1997:\n",
    "       aumento_inicial *= 2\n",
    "\n",
    "print(f'Seu salário atual é de: R$ {salario_inicial:.2f}')\n"
   ]
  },
  {
   "cell_type": "code",
   "execution_count": 10,
   "metadata": {},
   "outputs": [
    {
     "name": "stdout",
     "output_type": "stream",
     "text": [
      "Em 1995 o seu salário foi de R$ 1015.00\n",
      "Em 1996 o seu salário foi de R$ 1045.45\n",
      "Em 1997 o seu salário foi de R$ 1108.18\n",
      "Em 1998 o seu salário foi de R$ 1241.16\n",
      "Em 1999 o seu salário foi de R$ 1390.10\n",
      "Em 2000 o seu salário foi de R$ 1556.91\n",
      "Em 2001 o seu salário foi de R$ 1743.74\n",
      "Em 2002 o seu salário foi de R$ 1952.99\n",
      "Em 2003 o seu salário foi de R$ 2187.34\n",
      "Em 2004 o seu salário foi de R$ 2449.83\n",
      "Em 2005 o seu salário foi de R$ 2743.81\n",
      "Em 2006 o seu salário foi de R$ 3073.06\n",
      "Em 2007 o seu salário foi de R$ 3441.83\n",
      "Em 2008 o seu salário foi de R$ 3854.85\n",
      "Em 2009 o seu salário foi de R$ 4317.43\n",
      "Em 2010 o seu salário foi de R$ 4835.52\n",
      "Em 2011 o seu salário foi de R$ 5415.79\n",
      "Em 2012 o seu salário foi de R$ 6065.68\n",
      "Em 2013 o seu salário foi de R$ 6793.56\n",
      "Em 2014 o seu salário foi de R$ 7608.79\n",
      "Em 2015 o seu salário foi de R$ 8521.84\n",
      "Em 2016 o seu salário foi de R$ 9544.46\n",
      "Em 2017 o seu salário foi de R$ 10689.80\n",
      "Em 2018 o seu salário foi de R$ 11972.58\n",
      "Em 2019 o seu salário foi de R$ 13409.29\n",
      "Em 2020 o seu salário foi de R$ 15018.40\n",
      "Em 2021 o seu salário foi de R$ 16820.61\n",
      "Em 2022 o seu salário foi de R$ 18839.08\n",
      "Em 2023 o seu salário foi de R$ 21099.77\n",
      "\n",
      "\n",
      "Seu salário atual é de: R$ 21099.77\n"
     ]
    }
   ],
   "source": [
    "#Usuario digita seu salário inicial\n",
    "salario_inicial = float(input('Digite seu salário em reais: '))\n",
    "\n",
    "#ano de contratacao\n",
    "ano_contratacao = int(input('Digite seu ano de contratacao: '))\n",
    "\n",
    "#ano atual\n",
    "ano_atual = int(input('Digite o ano atual: '))\n",
    "\n",
    "#Variavel de aumento de salário anual.\n",
    "aumento_inicial = 1.5 / 100\n",
    "\n",
    "#calcular o salário anual\n",
    "for ano in range(ano_contratacao, ano_atual + 1):\n",
    "    salario_inicial += salario_inicial * aumento_inicial\n",
    "    if ano <= 1997:\n",
    "       aumento_inicial *= 2\n",
    "    print(f'Em {ano} o seu salário foi de R$ {salario_inicial:.2f}') \n",
    "print('')\n",
    "print('')\n",
    "print(f'Seu salário atual é de: R$ {salario_inicial:.2f}')"
   ]
  }
 ],
 "metadata": {
  "kernelspec": {
   "display_name": "Python 3",
   "language": "python",
   "name": "python3"
  },
  "language_info": {
   "codemirror_mode": {
    "name": "ipython",
    "version": 3
   },
   "file_extension": ".py",
   "mimetype": "text/x-python",
   "name": "python",
   "nbconvert_exporter": "python",
   "pygments_lexer": "ipython3",
   "version": "3.12.4"
  }
 },
 "nbformat": 4,
 "nbformat_minor": 2
}
